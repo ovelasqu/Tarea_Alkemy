{
 "cells": [
  {
   "cell_type": "markdown",
   "metadata": {},
   "source": [
    "# Trabajo Integrador - Bootcamp Data Science\n",
    "\n",
    "**Estudiante**: Orlando Velásquez\n",
    "\n",
    "El trabajo integrador consiste en desarrollar un proceso de Ciencia de Datos sobre un escenario relacionado con los pagos de una entidad financiera."
   ]
  },
  {
   "cell_type": "markdown",
   "metadata": {},
   "source": [
    "## Análisis Exploratorio\n",
    "\n",
    "Esta sección contiene el análisis exploratorio de los datos.\n",
    "\n",
    "Se definen las columnas con sus tipos de datos y luego un análisis de cada característica."
   ]
  }
 ],
 "metadata": {
  "language_info": {
   "name": "python"
  },
  "orig_nbformat": 4
 },
 "nbformat": 4,
 "nbformat_minor": 2
}
