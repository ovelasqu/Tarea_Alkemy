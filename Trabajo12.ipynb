{
 "cells": [
  {
   "cell_type": "markdown",
   "id": "2bbf7e6d",
   "metadata": {},
   "source": [
    "# Trabajo Integrador\n",
    "#### Nombre: María Paz Romo"
   ]
  },
  {
   "cell_type": "markdown",
   "id": "3475347d",
   "metadata": {},
   "source": [
    "## Librerias"
   ]
  },
  {
   "cell_type": "code",
   "execution_count": 1,
   "id": "82ccff0d",
   "metadata": {},
   "outputs": [],
   "source": [
    "# Tratamiento de datos\n",
    "# ==============================================================================\n",
    "import pandas as pd\n",
    "import numpy as np\n",
    "\n",
    "# Gráficos\n",
    "# ==============================================================================\n",
    "import matplotlib.pyplot as plt\n",
    "# from matplotlib import style\n",
    "import seaborn as sns\n",
    "from matplotlib.ticker import ScalarFormatter\n",
    "sns.set()\n",
    "import warnings;\n",
    "warnings.filterwarnings('ignore')\n",
    "\n",
    "# Preprocesado y modelado\n",
    "# ==============================================================================\n",
    "from sklearn.preprocessing import StandardScaler\n",
    "from sklearn.linear_model import LogisticRegression\n",
    "from sklearn.model_selection import train_test_split\n",
    "from sklearn.metrics import accuracy_score\n",
    "from sklearn.metrics import confusion_matrix\n",
    "from sklearn import tree\n",
    "from sklearn import metrics\n",
    "from sklearn.metrics import mean_squared_error\n",
    "from sklearn.metrics import roc_curve  \n",
    "from sklearn.metrics import roc_auc_score \n",
    "from sklearn.ensemble import RandomForestClassifier\n",
    "from sklearn.ensemble import RandomForestRegressor\n",
    "from sklearn.model_selection import GridSearchCV"
   ]
  },
  {
   "cell_type": "markdown",
   "id": "69e7ab34",
   "metadata": {},
   "source": [
    "## Carga Base de datos"
   ]
  },
  {
   "cell_type": "code",
   "execution_count": 2,
   "id": "c3c7c486",
   "metadata": {},
   "outputs": [
    {
     "data": {
      "text/html": [
       "<div>\n",
       "<style scoped>\n",
       "    .dataframe tbody tr th:only-of-type {\n",
       "        vertical-align: middle;\n",
       "    }\n",
       "\n",
       "    .dataframe tbody tr th {\n",
       "        vertical-align: top;\n",
       "    }\n",
       "\n",
       "    .dataframe thead th {\n",
       "        text-align: right;\n",
       "    }\n",
       "</style>\n",
       "<table border=\"1\" class=\"dataframe\">\n",
       "  <thead>\n",
       "    <tr style=\"text-align: right;\">\n",
       "      <th></th>\n",
       "      <th>ID</th>\n",
       "      <th>LIMIT_BAL</th>\n",
       "      <th>SEX</th>\n",
       "      <th>EDUCATION</th>\n",
       "      <th>MARRIAGE</th>\n",
       "      <th>AGE</th>\n",
       "      <th>PAY_0</th>\n",
       "      <th>PAY_2</th>\n",
       "      <th>PAY_3</th>\n",
       "      <th>PAY_4</th>\n",
       "      <th>...</th>\n",
       "      <th>BILL_AMT4</th>\n",
       "      <th>BILL_AMT5</th>\n",
       "      <th>BILL_AMT6</th>\n",
       "      <th>PAY_AMT1</th>\n",
       "      <th>PAY_AMT2</th>\n",
       "      <th>PAY_AMT3</th>\n",
       "      <th>PAY_AMT4</th>\n",
       "      <th>PAY_AMT5</th>\n",
       "      <th>PAY_AMT6</th>\n",
       "      <th>default.payment.next.month</th>\n",
       "    </tr>\n",
       "  </thead>\n",
       "  <tbody>\n",
       "    <tr>\n",
       "      <th>0</th>\n",
       "      <td>1</td>\n",
       "      <td>20000.0</td>\n",
       "      <td>2</td>\n",
       "      <td>2</td>\n",
       "      <td>1</td>\n",
       "      <td>24</td>\n",
       "      <td>2</td>\n",
       "      <td>2</td>\n",
       "      <td>-1</td>\n",
       "      <td>-1</td>\n",
       "      <td>...</td>\n",
       "      <td>0.0</td>\n",
       "      <td>0.0</td>\n",
       "      <td>0.0</td>\n",
       "      <td>0.0</td>\n",
       "      <td>689.0</td>\n",
       "      <td>0.0</td>\n",
       "      <td>0.0</td>\n",
       "      <td>0.0</td>\n",
       "      <td>0.0</td>\n",
       "      <td>1</td>\n",
       "    </tr>\n",
       "    <tr>\n",
       "      <th>1</th>\n",
       "      <td>2</td>\n",
       "      <td>120000.0</td>\n",
       "      <td>2</td>\n",
       "      <td>2</td>\n",
       "      <td>2</td>\n",
       "      <td>26</td>\n",
       "      <td>-1</td>\n",
       "      <td>2</td>\n",
       "      <td>0</td>\n",
       "      <td>0</td>\n",
       "      <td>...</td>\n",
       "      <td>3272.0</td>\n",
       "      <td>3455.0</td>\n",
       "      <td>3261.0</td>\n",
       "      <td>0.0</td>\n",
       "      <td>1000.0</td>\n",
       "      <td>1000.0</td>\n",
       "      <td>1000.0</td>\n",
       "      <td>0.0</td>\n",
       "      <td>2000.0</td>\n",
       "      <td>1</td>\n",
       "    </tr>\n",
       "    <tr>\n",
       "      <th>2</th>\n",
       "      <td>3</td>\n",
       "      <td>90000.0</td>\n",
       "      <td>2</td>\n",
       "      <td>2</td>\n",
       "      <td>2</td>\n",
       "      <td>34</td>\n",
       "      <td>0</td>\n",
       "      <td>0</td>\n",
       "      <td>0</td>\n",
       "      <td>0</td>\n",
       "      <td>...</td>\n",
       "      <td>14331.0</td>\n",
       "      <td>14948.0</td>\n",
       "      <td>15549.0</td>\n",
       "      <td>1518.0</td>\n",
       "      <td>1500.0</td>\n",
       "      <td>1000.0</td>\n",
       "      <td>1000.0</td>\n",
       "      <td>1000.0</td>\n",
       "      <td>5000.0</td>\n",
       "      <td>0</td>\n",
       "    </tr>\n",
       "    <tr>\n",
       "      <th>3</th>\n",
       "      <td>4</td>\n",
       "      <td>50000.0</td>\n",
       "      <td>2</td>\n",
       "      <td>2</td>\n",
       "      <td>1</td>\n",
       "      <td>37</td>\n",
       "      <td>0</td>\n",
       "      <td>0</td>\n",
       "      <td>0</td>\n",
       "      <td>0</td>\n",
       "      <td>...</td>\n",
       "      <td>28314.0</td>\n",
       "      <td>28959.0</td>\n",
       "      <td>29547.0</td>\n",
       "      <td>2000.0</td>\n",
       "      <td>2019.0</td>\n",
       "      <td>1200.0</td>\n",
       "      <td>1100.0</td>\n",
       "      <td>1069.0</td>\n",
       "      <td>1000.0</td>\n",
       "      <td>0</td>\n",
       "    </tr>\n",
       "    <tr>\n",
       "      <th>4</th>\n",
       "      <td>5</td>\n",
       "      <td>50000.0</td>\n",
       "      <td>1</td>\n",
       "      <td>2</td>\n",
       "      <td>1</td>\n",
       "      <td>57</td>\n",
       "      <td>-1</td>\n",
       "      <td>0</td>\n",
       "      <td>-1</td>\n",
       "      <td>0</td>\n",
       "      <td>...</td>\n",
       "      <td>20940.0</td>\n",
       "      <td>19146.0</td>\n",
       "      <td>19131.0</td>\n",
       "      <td>2000.0</td>\n",
       "      <td>36681.0</td>\n",
       "      <td>10000.0</td>\n",
       "      <td>9000.0</td>\n",
       "      <td>689.0</td>\n",
       "      <td>679.0</td>\n",
       "      <td>0</td>\n",
       "    </tr>\n",
       "  </tbody>\n",
       "</table>\n",
       "<p>5 rows × 25 columns</p>\n",
       "</div>"
      ],
      "text/plain": [
       "   ID  LIMIT_BAL  SEX  EDUCATION  MARRIAGE  AGE  PAY_0  PAY_2  PAY_3  PAY_4  \\\n",
       "0   1    20000.0    2          2         1   24      2      2     -1     -1   \n",
       "1   2   120000.0    2          2         2   26     -1      2      0      0   \n",
       "2   3    90000.0    2          2         2   34      0      0      0      0   \n",
       "3   4    50000.0    2          2         1   37      0      0      0      0   \n",
       "4   5    50000.0    1          2         1   57     -1      0     -1      0   \n",
       "\n",
       "   ...  BILL_AMT4  BILL_AMT5  BILL_AMT6  PAY_AMT1  PAY_AMT2  PAY_AMT3  \\\n",
       "0  ...        0.0        0.0        0.0       0.0     689.0       0.0   \n",
       "1  ...     3272.0     3455.0     3261.0       0.0    1000.0    1000.0   \n",
       "2  ...    14331.0    14948.0    15549.0    1518.0    1500.0    1000.0   \n",
       "3  ...    28314.0    28959.0    29547.0    2000.0    2019.0    1200.0   \n",
       "4  ...    20940.0    19146.0    19131.0    2000.0   36681.0   10000.0   \n",
       "\n",
       "   PAY_AMT4  PAY_AMT5  PAY_AMT6  default.payment.next.month  \n",
       "0       0.0       0.0       0.0                           1  \n",
       "1    1000.0       0.0    2000.0                           1  \n",
       "2    1000.0    1000.0    5000.0                           0  \n",
       "3    1100.0    1069.0    1000.0                           0  \n",
       "4    9000.0     689.0     679.0                           0  \n",
       "\n",
       "[5 rows x 25 columns]"
      ]
     },
     "execution_count": 2,
     "metadata": {},
     "output_type": "execute_result"
    }
   ],
   "source": [
    "data = pd.read_csv(\"dataset.csv\")\n",
    "data.head()"
   ]
  },
  {
   "cell_type": "markdown",
   "id": "b5723dbb",
   "metadata": {},
   "source": [
    "## Análisis Exploratorio"
   ]
  },
  {
   "cell_type": "code",
   "execution_count": 3,
   "id": "a90abfd0",
   "metadata": {},
   "outputs": [
    {
     "data": {
      "text/html": [
       "<div>\n",
       "<style scoped>\n",
       "    .dataframe tbody tr th:only-of-type {\n",
       "        vertical-align: middle;\n",
       "    }\n",
       "\n",
       "    .dataframe tbody tr th {\n",
       "        vertical-align: top;\n",
       "    }\n",
       "\n",
       "    .dataframe thead th {\n",
       "        text-align: right;\n",
       "    }\n",
       "</style>\n",
       "<table border=\"1\" class=\"dataframe\">\n",
       "  <thead>\n",
       "    <tr style=\"text-align: right;\">\n",
       "      <th></th>\n",
       "      <th>ID</th>\n",
       "      <th>LIMIT_BAL</th>\n",
       "      <th>SEX</th>\n",
       "      <th>EDUCATION</th>\n",
       "      <th>MARRIAGE</th>\n",
       "      <th>AGE</th>\n",
       "      <th>PAY_0</th>\n",
       "      <th>PAY_2</th>\n",
       "      <th>PAY_3</th>\n",
       "      <th>PAY_4</th>\n",
       "      <th>...</th>\n",
       "      <th>BILL_AMT4</th>\n",
       "      <th>BILL_AMT5</th>\n",
       "      <th>BILL_AMT6</th>\n",
       "      <th>PAY_AMT1</th>\n",
       "      <th>PAY_AMT2</th>\n",
       "      <th>PAY_AMT3</th>\n",
       "      <th>PAY_AMT4</th>\n",
       "      <th>PAY_AMT5</th>\n",
       "      <th>PAY_AMT6</th>\n",
       "      <th>default.payment.next.month</th>\n",
       "    </tr>\n",
       "  </thead>\n",
       "  <tbody>\n",
       "    <tr>\n",
       "      <th>count</th>\n",
       "      <td>30000.0</td>\n",
       "      <td>30000.0</td>\n",
       "      <td>30000.0</td>\n",
       "      <td>30000.0</td>\n",
       "      <td>30000.0</td>\n",
       "      <td>30000.0</td>\n",
       "      <td>30000.0</td>\n",
       "      <td>30000.0</td>\n",
       "      <td>30000.0</td>\n",
       "      <td>30000.0</td>\n",
       "      <td>...</td>\n",
       "      <td>30000.0</td>\n",
       "      <td>30000.0</td>\n",
       "      <td>30000.0</td>\n",
       "      <td>30000.0</td>\n",
       "      <td>30000.0</td>\n",
       "      <td>30000.0</td>\n",
       "      <td>30000.0</td>\n",
       "      <td>30000.0</td>\n",
       "      <td>30000.0</td>\n",
       "      <td>30000.0</td>\n",
       "    </tr>\n",
       "    <tr>\n",
       "      <th>mean</th>\n",
       "      <td>15000.0</td>\n",
       "      <td>167484.0</td>\n",
       "      <td>2.0</td>\n",
       "      <td>2.0</td>\n",
       "      <td>2.0</td>\n",
       "      <td>35.0</td>\n",
       "      <td>-0.0</td>\n",
       "      <td>-0.0</td>\n",
       "      <td>-0.0</td>\n",
       "      <td>-0.0</td>\n",
       "      <td>...</td>\n",
       "      <td>43263.0</td>\n",
       "      <td>40311.0</td>\n",
       "      <td>38872.0</td>\n",
       "      <td>5664.0</td>\n",
       "      <td>5921.0</td>\n",
       "      <td>5226.0</td>\n",
       "      <td>4826.0</td>\n",
       "      <td>4799.0</td>\n",
       "      <td>5216.0</td>\n",
       "      <td>0.0</td>\n",
       "    </tr>\n",
       "    <tr>\n",
       "      <th>std</th>\n",
       "      <td>8660.0</td>\n",
       "      <td>129748.0</td>\n",
       "      <td>0.0</td>\n",
       "      <td>1.0</td>\n",
       "      <td>1.0</td>\n",
       "      <td>9.0</td>\n",
       "      <td>1.0</td>\n",
       "      <td>1.0</td>\n",
       "      <td>1.0</td>\n",
       "      <td>1.0</td>\n",
       "      <td>...</td>\n",
       "      <td>64333.0</td>\n",
       "      <td>60797.0</td>\n",
       "      <td>59554.0</td>\n",
       "      <td>16563.0</td>\n",
       "      <td>23041.0</td>\n",
       "      <td>17607.0</td>\n",
       "      <td>15666.0</td>\n",
       "      <td>15278.0</td>\n",
       "      <td>17777.0</td>\n",
       "      <td>0.0</td>\n",
       "    </tr>\n",
       "    <tr>\n",
       "      <th>min</th>\n",
       "      <td>1.0</td>\n",
       "      <td>10000.0</td>\n",
       "      <td>1.0</td>\n",
       "      <td>0.0</td>\n",
       "      <td>0.0</td>\n",
       "      <td>21.0</td>\n",
       "      <td>-2.0</td>\n",
       "      <td>-2.0</td>\n",
       "      <td>-2.0</td>\n",
       "      <td>-2.0</td>\n",
       "      <td>...</td>\n",
       "      <td>-170000.0</td>\n",
       "      <td>-81334.0</td>\n",
       "      <td>-339603.0</td>\n",
       "      <td>0.0</td>\n",
       "      <td>0.0</td>\n",
       "      <td>0.0</td>\n",
       "      <td>0.0</td>\n",
       "      <td>0.0</td>\n",
       "      <td>0.0</td>\n",
       "      <td>0.0</td>\n",
       "    </tr>\n",
       "    <tr>\n",
       "      <th>25%</th>\n",
       "      <td>7501.0</td>\n",
       "      <td>50000.0</td>\n",
       "      <td>1.0</td>\n",
       "      <td>1.0</td>\n",
       "      <td>1.0</td>\n",
       "      <td>28.0</td>\n",
       "      <td>-1.0</td>\n",
       "      <td>-1.0</td>\n",
       "      <td>-1.0</td>\n",
       "      <td>-1.0</td>\n",
       "      <td>...</td>\n",
       "      <td>2327.0</td>\n",
       "      <td>1763.0</td>\n",
       "      <td>1256.0</td>\n",
       "      <td>1000.0</td>\n",
       "      <td>833.0</td>\n",
       "      <td>390.0</td>\n",
       "      <td>296.0</td>\n",
       "      <td>252.0</td>\n",
       "      <td>118.0</td>\n",
       "      <td>0.0</td>\n",
       "    </tr>\n",
       "    <tr>\n",
       "      <th>50%</th>\n",
       "      <td>15000.0</td>\n",
       "      <td>140000.0</td>\n",
       "      <td>2.0</td>\n",
       "      <td>2.0</td>\n",
       "      <td>2.0</td>\n",
       "      <td>34.0</td>\n",
       "      <td>0.0</td>\n",
       "      <td>0.0</td>\n",
       "      <td>0.0</td>\n",
       "      <td>0.0</td>\n",
       "      <td>...</td>\n",
       "      <td>19052.0</td>\n",
       "      <td>18104.0</td>\n",
       "      <td>17071.0</td>\n",
       "      <td>2100.0</td>\n",
       "      <td>2009.0</td>\n",
       "      <td>1800.0</td>\n",
       "      <td>1500.0</td>\n",
       "      <td>1500.0</td>\n",
       "      <td>1500.0</td>\n",
       "      <td>0.0</td>\n",
       "    </tr>\n",
       "    <tr>\n",
       "      <th>75%</th>\n",
       "      <td>22500.0</td>\n",
       "      <td>240000.0</td>\n",
       "      <td>2.0</td>\n",
       "      <td>2.0</td>\n",
       "      <td>2.0</td>\n",
       "      <td>41.0</td>\n",
       "      <td>0.0</td>\n",
       "      <td>0.0</td>\n",
       "      <td>0.0</td>\n",
       "      <td>0.0</td>\n",
       "      <td>...</td>\n",
       "      <td>54506.0</td>\n",
       "      <td>50190.0</td>\n",
       "      <td>49198.0</td>\n",
       "      <td>5006.0</td>\n",
       "      <td>5000.0</td>\n",
       "      <td>4505.0</td>\n",
       "      <td>4013.0</td>\n",
       "      <td>4032.0</td>\n",
       "      <td>4000.0</td>\n",
       "      <td>0.0</td>\n",
       "    </tr>\n",
       "    <tr>\n",
       "      <th>max</th>\n",
       "      <td>30000.0</td>\n",
       "      <td>1000000.0</td>\n",
       "      <td>2.0</td>\n",
       "      <td>6.0</td>\n",
       "      <td>3.0</td>\n",
       "      <td>79.0</td>\n",
       "      <td>8.0</td>\n",
       "      <td>8.0</td>\n",
       "      <td>8.0</td>\n",
       "      <td>8.0</td>\n",
       "      <td>...</td>\n",
       "      <td>891586.0</td>\n",
       "      <td>927171.0</td>\n",
       "      <td>961664.0</td>\n",
       "      <td>873552.0</td>\n",
       "      <td>1684259.0</td>\n",
       "      <td>896040.0</td>\n",
       "      <td>621000.0</td>\n",
       "      <td>426529.0</td>\n",
       "      <td>528666.0</td>\n",
       "      <td>1.0</td>\n",
       "    </tr>\n",
       "  </tbody>\n",
       "</table>\n",
       "<p>8 rows × 25 columns</p>\n",
       "</div>"
      ],
      "text/plain": [
       "            ID  LIMIT_BAL      SEX  EDUCATION  MARRIAGE      AGE    PAY_0  \\\n",
       "count  30000.0    30000.0  30000.0    30000.0   30000.0  30000.0  30000.0   \n",
       "mean   15000.0   167484.0      2.0        2.0       2.0     35.0     -0.0   \n",
       "std     8660.0   129748.0      0.0        1.0       1.0      9.0      1.0   \n",
       "min        1.0    10000.0      1.0        0.0       0.0     21.0     -2.0   \n",
       "25%     7501.0    50000.0      1.0        1.0       1.0     28.0     -1.0   \n",
       "50%    15000.0   140000.0      2.0        2.0       2.0     34.0      0.0   \n",
       "75%    22500.0   240000.0      2.0        2.0       2.0     41.0      0.0   \n",
       "max    30000.0  1000000.0      2.0        6.0       3.0     79.0      8.0   \n",
       "\n",
       "         PAY_2    PAY_3    PAY_4  ...  BILL_AMT4  BILL_AMT5  BILL_AMT6  \\\n",
       "count  30000.0  30000.0  30000.0  ...    30000.0    30000.0    30000.0   \n",
       "mean      -0.0     -0.0     -0.0  ...    43263.0    40311.0    38872.0   \n",
       "std        1.0      1.0      1.0  ...    64333.0    60797.0    59554.0   \n",
       "min       -2.0     -2.0     -2.0  ...  -170000.0   -81334.0  -339603.0   \n",
       "25%       -1.0     -1.0     -1.0  ...     2327.0     1763.0     1256.0   \n",
       "50%        0.0      0.0      0.0  ...    19052.0    18104.0    17071.0   \n",
       "75%        0.0      0.0      0.0  ...    54506.0    50190.0    49198.0   \n",
       "max        8.0      8.0      8.0  ...   891586.0   927171.0   961664.0   \n",
       "\n",
       "       PAY_AMT1   PAY_AMT2  PAY_AMT3  PAY_AMT4  PAY_AMT5  PAY_AMT6  \\\n",
       "count   30000.0    30000.0   30000.0   30000.0   30000.0   30000.0   \n",
       "mean     5664.0     5921.0    5226.0    4826.0    4799.0    5216.0   \n",
       "std     16563.0    23041.0   17607.0   15666.0   15278.0   17777.0   \n",
       "min         0.0        0.0       0.0       0.0       0.0       0.0   \n",
       "25%      1000.0      833.0     390.0     296.0     252.0     118.0   \n",
       "50%      2100.0     2009.0    1800.0    1500.0    1500.0    1500.0   \n",
       "75%      5006.0     5000.0    4505.0    4013.0    4032.0    4000.0   \n",
       "max    873552.0  1684259.0  896040.0  621000.0  426529.0  528666.0   \n",
       "\n",
       "       default.payment.next.month  \n",
       "count                     30000.0  \n",
       "mean                          0.0  \n",
       "std                           0.0  \n",
       "min                           0.0  \n",
       "25%                           0.0  \n",
       "50%                           0.0  \n",
       "75%                           0.0  \n",
       "max                           1.0  \n",
       "\n",
       "[8 rows x 25 columns]"
      ]
     },
     "execution_count": 3,
     "metadata": {},
     "output_type": "execute_result"
    }
   ],
   "source": [
    "#data.isnull().sum()\n",
    "data.describe().round()"
   ]
  },
  {
   "cell_type": "markdown",
   "id": "88d830b1",
   "metadata": {},
   "source": [
    "### Variables:\n",
    "- ID: identificacodor del cliente.\n",
    "- LIMIT_BAL: monto de crédito otorgado en dolares.\n",
    "1\n",
    "- SEX: genero (1=male, 2=female)\n",
    "- EDUCATION: educación (1=graduate school, 2=university, 3=high school,\n",
    "4=others, 5=unknown, 6=unknown)\n",
    "- MARRIAGE: estado civi (1=married, 2=single, 3=others)\n",
    "- AGE: edad en años\n",
    "- PAY_0: estado de pago a septiembre 2005 (-1=pay duly, 1=payment delay for\n",
    "one month, 2=payment delay for two months, … 8=payment delay for eight months,\n",
    "9=payment delay for nine months and above)\n",
    "- PAY_2: estado de pago a agosto 2005\n",
    "- PAY_3: estado de pago a julio 2005\n",
    "- PAY_4: estado de pago a junio 2005\n",
    "- PAY_5: estado de pago a mayo 2005\n",
    "- PAY_6: estado de pago a abril 2005\n",
    "- BILL_AMT1: monto del estado de cuenta a septiembre 2005 en dólares\n",
    "- BILL_AMT2: monto del estado de cuenta a agosto 2005 en dólares\n",
    "- BILL_AMT3: monto del estado de cuenta a julio 2005 en dólares\n",
    "- BILL_AMT4: monto del estado de cuenta a junio 2005 en dólares\n",
    "- BILL_AMT5: monto del estado de cuenta a mayo 2005 en dólares\n",
    "- BILL_AMT6: monto del estado de cuenta a abril 2005 en dólares\n",
    "- PAY_AMT1: importe del pago anterior en septiembre 2005 en dólares\n",
    "- PAY_AMT2: importe del pago anterior en agosto 2005 en dólares\n",
    "- PAY_AMT3: importe del pago anterior en julio 2005 en dólares\n",
    "- PAY_AMT4: importe del pago anterior en junio 2005 en dólares\n",
    "- PAY_AMT5: importe del pago anterior en mayo 2005 en dólares\n",
    "- PAY_AMT6: importe del pago anterior en abril 2005 en dólares\n",
    "- default.payment.next.month: Default payment (1=yes, 0=no)"
   ]
  },
  {
   "cell_type": "code",
   "execution_count": 4,
   "id": "494d73ad",
   "metadata": {},
   "outputs": [
    {
     "data": {
      "text/plain": [
       "ID                              int64\n",
       "LIMIT_BAL                     float64\n",
       "SEX                             int64\n",
       "EDUCATION                       int64\n",
       "MARRIAGE                        int64\n",
       "AGE                             int64\n",
       "PAY_0                           int64\n",
       "PAY_2                           int64\n",
       "PAY_3                           int64\n",
       "PAY_4                           int64\n",
       "PAY_5                           int64\n",
       "PAY_6                           int64\n",
       "BILL_AMT1                     float64\n",
       "BILL_AMT2                     float64\n",
       "BILL_AMT3                     float64\n",
       "BILL_AMT4                     float64\n",
       "BILL_AMT5                     float64\n",
       "BILL_AMT6                     float64\n",
       "PAY_AMT1                      float64\n",
       "PAY_AMT2                      float64\n",
       "PAY_AMT3                      float64\n",
       "PAY_AMT4                      float64\n",
       "PAY_AMT5                      float64\n",
       "PAY_AMT6                      float64\n",
       "default.payment.next.month      int64\n",
       "dtype: object"
      ]
     },
     "execution_count": 4,
     "metadata": {},
     "output_type": "execute_result"
    }
   ],
   "source": [
    "data.dtypes"
   ]
  },
  {
   "cell_type": "markdown",
   "id": "f5f0ce59",
   "metadata": {},
   "source": [
    "Todas las varibles son cuantitativas, por lo que no requiere transformación de variables dummy"
   ]
  },
  {
   "cell_type": "code",
   "execution_count": 5,
   "id": "6fdf6269",
   "metadata": {},
   "outputs": [
    {
     "data": {
      "text/plain": [
       "ID                            False\n",
       "LIMIT_BAL                     False\n",
       "SEX                           False\n",
       "EDUCATION                     False\n",
       "MARRIAGE                      False\n",
       "AGE                           False\n",
       "PAY_0                         False\n",
       "PAY_2                         False\n",
       "PAY_3                         False\n",
       "PAY_4                         False\n",
       "PAY_5                         False\n",
       "PAY_6                         False\n",
       "BILL_AMT1                     False\n",
       "BILL_AMT2                     False\n",
       "BILL_AMT3                     False\n",
       "BILL_AMT4                     False\n",
       "BILL_AMT5                     False\n",
       "BILL_AMT6                     False\n",
       "PAY_AMT1                      False\n",
       "PAY_AMT2                      False\n",
       "PAY_AMT3                      False\n",
       "PAY_AMT4                      False\n",
       "PAY_AMT5                      False\n",
       "PAY_AMT6                      False\n",
       "default.payment.next.month    False\n",
       "dtype: bool"
      ]
     },
     "execution_count": 5,
     "metadata": {},
     "output_type": "execute_result"
    }
   ],
   "source": [
    "data.sum().isnull()"
   ]
  },
  {
   "cell_type": "markdown",
   "id": "6566a112",
   "metadata": {},
   "source": [
    "No hay datos nulos"
   ]
  },
  {
   "cell_type": "code",
   "execution_count": 6,
   "id": "d6f842c7",
   "metadata": {},
   "outputs": [],
   "source": [
    "data = data.set_index('ID')"
   ]
  },
  {
   "cell_type": "markdown",
   "id": "e7003224",
   "metadata": {},
   "source": [
    "Se fija la columna \"ID\" como indice"
   ]
  },
  {
   "cell_type": "markdown",
   "id": "3207619c",
   "metadata": {},
   "source": [
    "* Varible 'LIMIT_BAL'"
   ]
  },
  {
   "cell_type": "code",
   "execution_count": 7,
   "id": "21618576",
   "metadata": {},
   "outputs": [
    {
     "data": {
      "text/plain": [
       "10000.0       493\n",
       "16000.0         2\n",
       "20000.0      1976\n",
       "30000.0      1610\n",
       "40000.0       230\n",
       "             ... \n",
       "750000.0        4\n",
       "760000.0        1\n",
       "780000.0        2\n",
       "800000.0        2\n",
       "1000000.0       1\n",
       "Name: LIMIT_BAL, Length: 81, dtype: int64"
      ]
     },
     "execution_count": 7,
     "metadata": {},
     "output_type": "execute_result"
    }
   ],
   "source": [
    "data['LIMIT_BAL'].value_counts().sort_index()"
   ]
  },
  {
   "cell_type": "code",
   "execution_count": 8,
   "id": "bd90924d",
   "metadata": {},
   "outputs": [
    {
     "data": {
      "image/png": "[encoded data removed]",
      "text/plain": [
       "<Figure size 640x480 with 1 Axes>"
      ]
     },
     "metadata": {},
     "output_type": "display_data"
    }
   ],
   "source": [
    "# Boxplot for 'duration'\n",
    "g = sns.boxplot(x=data[\"LIMIT_BAL\"])"
   ]
  },
  {
   "cell_type": "markdown",
   "id": "e2558cc0",
   "metadata": {},
   "source": [
    "La mayor concentración de los datos se encuentra entre 0 y 600000 dolares, encontramos valores sobre este rango los que podriamos considerar como datos atipicos"
   ]
  },
  {
   "cell_type": "code",
   "execution_count": 9,
   "id": "1a120932",
   "metadata": {},
   "outputs": [
    {
     "name": "stdout",
     "output_type": "stream",
     "text": [
      "Cantidad clientes por genero: 1    11888\n",
      "2    18112\n",
      "Name: SEX, dtype: int64, % clientes por genero: 1    0.396267\n",
      "2    0.603733\n",
      "Name: SEX, dtype: float64\n"
     ]
    }
   ],
   "source": [
    "# 1=male, 2=female\n",
    "\n",
    "print(f\"Cantidad clientes por genero: {data['SEX'].value_counts().sort_index()}, % clientes por genero: {data['SEX'].value_counts(normalize=True).sort_index()}\")"
   ]
  },
  {
   "cell_type": "code",
   "execution_count": 10,
   "id": "c22039a4",
   "metadata": {},
   "outputs": [
    {
     "data": {
      "text/plain": [
       "<AxesSubplot:xlabel='SEX', ylabel='count'>"
      ]
     },
     "execution_count": 10,
     "metadata": {},
     "output_type": "execute_result"
    },
    {
     "data": {
      "image/png": "[encoded data removed]",
      "text/plain": [
       "<Figure size 640x480 with 1 Axes>"
      ]
     },
     "metadata": {},
     "output_type": "display_data"
    }
   ],
   "source": [
    "sns.countplot(x=data['SEX'])"
   ]
  },
  {
   "cell_type": "code",
   "execution_count": 11,
   "id": "450ed846",
   "metadata": {},
   "outputs": [
    {
     "data": {
      "text/plain": [
       "0       14\n",
       "1    10585\n",
       "2    14030\n",
       "3     4917\n",
       "4      123\n",
       "5      280\n",
       "6       51\n",
       "Name: EDUCATION, dtype: int64"
      ]
     },
     "execution_count": 11,
     "metadata": {},
     "output_type": "execute_result"
    }
   ],
   "source": [
    "# 1=graduate school, 2=university, 3=high school, 4=others, 5=unknown, 6=unknown\n",
    "\n",
    "data['EDUCATION'].value_counts().sort_index()"
   ]
  },
  {
   "cell_type": "code",
   "execution_count": 12,
   "id": "483d0a20",
   "metadata": {},
   "outputs": [
    {
     "data": {
      "text/plain": [
       "<AxesSubplot:xlabel='EDUCATION', ylabel='count'>"
      ]
     },
     "execution_count": 12,
     "metadata": {},
     "output_type": "execute_result"
    },
    {
     "data": {
      "image/png": "[encoded data removed]",
      "text/plain": [
       "<Figure size 640x480 with 1 Axes>"
      ]
     },
     "metadata": {},
     "output_type": "display_data"
    }
   ],
   "source": [
    "sns.countplot(x=data[\"EDUCATION\"])\n",
    "# 1=graduate school, 2=university, 3=high school, 4=others, 5=unknown, 6=unknown"
   ]
  },
  {
   "cell_type": "code",
   "execution_count": 13,
   "id": "0172b430",
   "metadata": {},
   "outputs": [],
   "source": [
    "data['EDUCATION']=data['EDUCATION'].replace([0, 6], 5)"
   ]
  },
  {
   "cell_type": "markdown",
   "id": "b3b287da",
   "metadata": {},
   "source": [
    "Se reemplazan los valores 0 y 6 por 5=unknown para agruparlos, ya que 5 tiene la misma descripción que 6 y 0 no aparece entonces lo dejamos como \"unknown\" "
   ]
  },
  {
   "cell_type": "code",
   "execution_count": 14,
   "id": "a839d978",
   "metadata": {},
   "outputs": [
    {
     "data": {
      "text/plain": [
       "0       54\n",
       "1    13659\n",
       "2    15964\n",
       "3      323\n",
       "Name: MARRIAGE, dtype: int64"
      ]
     },
     "execution_count": 14,
     "metadata": {},
     "output_type": "execute_result"
    }
   ],
   "source": [
    "# 1=married, 2=single, 3=others\n",
    "\n",
    "data['MARRIAGE'].value_counts().sort_index()"
   ]
  },
  {
   "cell_type": "code",
   "execution_count": 15,
   "id": "c9d544ca",
   "metadata": {},
   "outputs": [
    {
     "data": {
      "text/plain": [
       "<AxesSubplot:xlabel='MARRIAGE', ylabel='count'>"
      ]
     },
     "execution_count": 15,
     "metadata": {},
     "output_type": "execute_result"
    },
    {
     "data": {
      "image/png": "[encoded data removed]",
      "text/plain": [
       "<Figure size 640x480 with 1 Axes>"
      ]
     },
     "metadata": {},
     "output_type": "display_data"
    }
   ],
   "source": [
    "sns.countplot(x=data[\"MARRIAGE\"])\n",
    "# 1=married, 2=single, 3=others"
   ]
  },
  {
   "cell_type": "markdown",
   "id": "c68aef27",
   "metadata": {},
   "source": [
    "Se reemplaza el valor 0 por 3=others para agruparlos, ya que 0 no se encuentra dentro de la descripción dada."
   ]
  },
  {
   "cell_type": "code",
   "execution_count": 16,
   "id": "ffffd7f9",
   "metadata": {},
   "outputs": [],
   "source": [
    "data['MARRIAGE']=data['MARRIAGE'].replace([0], 3)"
   ]
  },
  {
   "cell_type": "code",
   "execution_count": 17,
   "id": "93422dcd",
   "metadata": {},
   "outputs": [
    {
     "data": {
      "image/png": "[encoded data removed]",
      "text/plain": [
       "<Figure size 640x480 with 1 Axes>"
      ]
     },
     "metadata": {},
     "output_type": "display_data"
    }
   ],
   "source": [
    "g = sns.boxplot(x=data[\"AGE\"])"
   ]
  },
  {
   "cell_type": "markdown",
   "id": "d095c701",
   "metadata": {},
   "source": [
    "La mayor cantidad del clientes se encuentra entre los 20 y 60 años, existen clientes con edad sobre este rango pero podrian ser considerados datos atipicos."
   ]
  },
  {
   "cell_type": "code",
   "execution_count": 18,
   "id": "0de49e85",
   "metadata": {},
   "outputs": [
    {
     "data": {
      "text/plain": [
       "-2     2759\n",
       "-1     5686\n",
       " 0    14737\n",
       " 1     3688\n",
       " 2     2667\n",
       " 3      322\n",
       " 4       76\n",
       " 5       26\n",
       " 6       11\n",
       " 7        9\n",
       " 8       19\n",
       "Name: PAY_0, dtype: int64"
      ]
     },
     "execution_count": 18,
     "metadata": {},
     "output_type": "execute_result"
    }
   ],
   "source": [
    "data['PAY_0'].value_counts().sort_index()"
   ]
  },
  {
   "cell_type": "code",
   "execution_count": 19,
   "id": "2bc03670",
   "metadata": {},
   "outputs": [
    {
     "data": {
      "text/plain": [
       "-2     3782\n",
       "-1     6050\n",
       " 0    15730\n",
       " 1       28\n",
       " 2     3927\n",
       " 3      326\n",
       " 4       99\n",
       " 5       25\n",
       " 6       12\n",
       " 7       20\n",
       " 8        1\n",
       "Name: PAY_2, dtype: int64"
      ]
     },
     "execution_count": 19,
     "metadata": {},
     "output_type": "execute_result"
    }
   ],
   "source": [
    "data['PAY_2'].value_counts().sort_index()"
   ]
  },
  {
   "cell_type": "code",
   "execution_count": 20,
   "id": "15e72199",
   "metadata": {},
   "outputs": [
    {
     "data": {
      "text/plain": [
       "-2     4085\n",
       "-1     5938\n",
       " 0    15764\n",
       " 1        4\n",
       " 2     3819\n",
       " 3      240\n",
       " 4       76\n",
       " 5       21\n",
       " 6       23\n",
       " 7       27\n",
       " 8        3\n",
       "Name: PAY_3, dtype: int64"
      ]
     },
     "execution_count": 20,
     "metadata": {},
     "output_type": "execute_result"
    }
   ],
   "source": [
    "data['PAY_3'].value_counts().sort_index()"
   ]
  },
  {
   "cell_type": "code",
   "execution_count": 21,
   "id": "aacf626f",
   "metadata": {},
   "outputs": [
    {
     "data": {
      "text/plain": [
       "-2     4348\n",
       "-1     5687\n",
       " 0    16455\n",
       " 1        2\n",
       " 2     3159\n",
       " 3      180\n",
       " 4       69\n",
       " 5       35\n",
       " 6        5\n",
       " 7       58\n",
       " 8        2\n",
       "Name: PAY_4, dtype: int64"
      ]
     },
     "execution_count": 21,
     "metadata": {},
     "output_type": "execute_result"
    }
   ],
   "source": [
    "data['PAY_4'].value_counts().sort_index()"
   ]
  },
  {
   "cell_type": "code",
   "execution_count": 22,
   "id": "489a656a",
   "metadata": {},
   "outputs": [
    {
     "data": {
      "text/plain": [
       "-2     4546\n",
       "-1     5539\n",
       " 0    16947\n",
       " 2     2626\n",
       " 3      178\n",
       " 4       84\n",
       " 5       17\n",
       " 6        4\n",
       " 7       58\n",
       " 8        1\n",
       "Name: PAY_5, dtype: int64"
      ]
     },
     "execution_count": 22,
     "metadata": {},
     "output_type": "execute_result"
    }
   ],
   "source": [
    "data['PAY_5'].value_counts().sort_index()"
   ]
  },
  {
   "cell_type": "code",
   "execution_count": 23,
   "id": "787d36d9",
   "metadata": {},
   "outputs": [
    {
     "data": {
      "text/plain": [
       "-2     4895\n",
       "-1     5740\n",
       " 0    16286\n",
       " 2     2766\n",
       " 3      184\n",
       " 4       49\n",
       " 5       13\n",
       " 6       19\n",
       " 7       46\n",
       " 8        2\n",
       "Name: PAY_6, dtype: int64"
      ]
     },
     "execution_count": 23,
     "metadata": {},
     "output_type": "execute_result"
    }
   ],
   "source": [
    "data['PAY_6'].value_counts().sort_index()"
   ]
  },
  {
   "cell_type": "code",
   "execution_count": 24,
   "id": "aa9c6dae",
   "metadata": {},
   "outputs": [
    {
     "data": {
      "image/png": "[encoded data removed]",
      "text/plain": [
       "<Figure size 640x480 with 1 Axes>"
      ]
     },
     "metadata": {},
     "output_type": "display_data"
    },
    {
     "data": {
      "image/png": "[encoded data removed]",
      "text/plain": [
       "<Figure size 640x480 with 1 Axes>"
      ]
     },
     "metadata": {},
     "output_type": "display_data"
    },
    {
     "data": {
      "image/png": "[encoded data removed]",
      "text/plain": [
       "<Figure size 640x480 with 1 Axes>"
      ]
     },
     "metadata": {},
     "output_type": "display_data"
    },
    {
     "data": {
      "image/png": "[encoded data removed]",
      "text/plain": [
       "<Figure size 640x480 with 1 Axes>"
      ]
     },
     "metadata": {},
     "output_type": "display_data"
    },
    {
     "data": {
      "image/png": "[encoded data removed]",
      "text/plain": [
       "<Figure size 640x480 with 1 Axes>"
      ]
     },
     "metadata": {},
     "output_type": "display_data"
    },
    {
     "data": {
      "image/png": "[encoded data removed]",
      "text/plain": [
       "<Figure size 640x480 with 1 Axes>"
      ]
     },
     "metadata": {},
     "output_type": "display_data"
    }
   ],
   "source": [
    "pay = ['PAY_0',\n",
    "       'PAY_2',\n",
    "       'PAY_3',\n",
    "       'PAY_4',\n",
    "       'PAY_5',\n",
    "       'PAY_6',]\n",
    "for columns in pay:\n",
    "    plt.hist(data[columns], bins=15)\n",
    "    plt.title(columns) , plt.xlabel(\"Estado_Pago\"), plt.ylabel(\"Cantidad_Clientes\")\n",
    "    plt.show()"
   ]
  },
  {
   "cell_type": "markdown",
   "id": "d688c6d4",
   "metadata": {},
   "source": [
    "Entre abril y septiembre de 2005 cerca del 50% de los clientes se encuentran con pago al día."
   ]
  },
  {
   "cell_type": "code",
   "execution_count": 25,
   "id": "b5b6eb98",
   "metadata": {},
   "outputs": [
    {
     "data": {
      "text/plain": [
       "0.0         2008\n",
       "390.0        244\n",
       "780.0         76\n",
       "326.0         72\n",
       "316.0         63\n",
       "            ... \n",
       "11636.0        1\n",
       "146034.0       1\n",
       "20817.0        1\n",
       "1351.0         1\n",
       "47929.0        1\n",
       "Name: BILL_AMT1, Length: 22723, dtype: int64"
      ]
     },
     "execution_count": 25,
     "metadata": {},
     "output_type": "execute_result"
    }
   ],
   "source": [
    "data['BILL_AMT1'].value_counts()"
   ]
  },
  {
   "cell_type": "code",
   "execution_count": 26,
   "id": "e7625384",
   "metadata": {},
   "outputs": [
    {
     "data": {
      "text/plain": [
       "Text(0.5, 1.0, 'BILL_AMT1')"
      ]
     },
     "execution_count": 26,
     "metadata": {},
     "output_type": "execute_result"
    },
    {
     "data": {
      "image/png": "[encoded data removed]",
      "text/plain": [
       "<Figure size 640x480 with 1 Axes>"
      ]
     },
     "metadata": {},
     "output_type": "display_data"
    }
   ],
   "source": [
    "plt.hist(data[\"BILL_AMT1\"], bins=20)\n",
    "plt.xlabel('Monto del estado de cuenta (USD)')\n",
    "plt.ylabel('Cantidad clientes')\n",
    "plt.title('BILL_AMT1')"
   ]
  },
  {
   "cell_type": "code",
   "execution_count": 27,
   "id": "3062a8ee",
   "metadata": {},
   "outputs": [
    {
     "data": {
      "text/plain": [
       "0.0        2506\n",
       "390.0       231\n",
       "326.0        75\n",
       "780.0        75\n",
       "316.0        72\n",
       "           ... \n",
       "26357.0       1\n",
       "85195.0       1\n",
       "6889.0        1\n",
       "11004.0       1\n",
       "48905.0       1\n",
       "Name: BILL_AMT2, Length: 22346, dtype: int64"
      ]
     },
     "execution_count": 27,
     "metadata": {},
     "output_type": "execute_result"
    }
   ],
   "source": [
    "data['BILL_AMT2'].value_counts()"
   ]
  },
  {
   "cell_type": "code",
   "execution_count": 28,
   "id": "95b1fa6e",
   "metadata": {},
   "outputs": [
    {
     "data": {
      "text/plain": [
       "Text(0.5, 1.0, 'BILL_AMT2')"
      ]
     },
     "execution_count": 28,
     "metadata": {},
     "output_type": "execute_result"
    },
    {
     "data": {
      "image/png": "[encoded data removed]",
      "text/plain": [
       "<Figure size 640x480 with 1 Axes>"
      ]
     },
     "metadata": {},
     "output_type": "display_data"
    }
   ],
   "source": [
    "plt.hist(data[\"BILL_AMT2\"], bins=20)\n",
    "plt.xlabel('Monto del estado de cuenta (USD)')\n",
    "plt.ylabel('Cantidad clientes')\n",
    "plt.title('BILL_AMT2')"
   ]
  },
  {
   "cell_type": "code",
   "execution_count": 29,
   "id": "64e2e503",
   "metadata": {},
   "outputs": [
    {
     "data": {
      "text/plain": [
       "0.0         2870\n",
       "390.0        275\n",
       "780.0         74\n",
       "326.0         63\n",
       "316.0         62\n",
       "            ... \n",
       "19580.0        1\n",
       "45129.0        1\n",
       "227807.0       1\n",
       "39330.0        1\n",
       "49764.0        1\n",
       "Name: BILL_AMT3, Length: 22026, dtype: int64"
      ]
     },
     "execution_count": 29,
     "metadata": {},
     "output_type": "execute_result"
    }
   ],
   "source": [
    "data['BILL_AMT3'].value_counts()"
   ]
  },
  {
   "cell_type": "code",
   "execution_count": 30,
   "id": "ddbb0e72",
   "metadata": {},
   "outputs": [
    {
     "data": {
      "text/plain": [
       "Text(0.5, 1.0, 'BILL_AMT3')"
      ]
     },
     "execution_count": 30,
     "metadata": {},
     "output_type": "execute_result"
    },
    {
     "data": {
      "image/png": "[encoded data removed]",
      "text/plain": [
       "<Figure size 640x480 with 1 Axes>"
      ]
     },
     "metadata": {},
     "output_type": "display_data"
    }
   ],
   "source": [
    "plt.hist(data[\"BILL_AMT3\"], bins=20)\n",
    "plt.xlabel('Monto del estado de cuenta (USD)')\n",
    "plt.ylabel('Cantidad clientes')\n",
    "plt.title('BILL_AMT3')"
   ]
  },
  {
   "cell_type": "code",
   "execution_count": 31,
   "id": "db3103f0",
   "metadata": {},
   "outputs": [
    {
     "data": {
      "text/plain": [
       "0.0         3195\n",
       "390.0        246\n",
       "780.0        101\n",
       "316.0         68\n",
       "326.0         62\n",
       "            ... \n",
       "97189.0        1\n",
       "118839.0       1\n",
       "23567.0        1\n",
       "18377.0        1\n",
       "36535.0        1\n",
       "Name: BILL_AMT4, Length: 21548, dtype: int64"
      ]
     },
     "execution_count": 31,
     "metadata": {},
     "output_type": "execute_result"
    }
   ],
   "source": [
    "data['BILL_AMT4'].value_counts()"
   ]
  },
  {
   "cell_type": "code",
   "execution_count": 32,
   "id": "d2e73a14",
   "metadata": {},
   "outputs": [
    {
     "data": {
      "text/plain": [
       "Text(0.5, 1.0, 'BILL_AMT4')"
      ]
     },
     "execution_count": 32,
     "metadata": {},
     "output_type": "execute_result"
    },
    {
     "data": {
      "image/png": "[encoded data removed]",
      "text/plain": [
       "<Figure size 640x480 with 1 Axes>"
      ]
     },
     "metadata": {},
     "output_type": "display_data"
    }
   ],
   "source": [
    "plt.hist(data[\"BILL_AMT4\"], bins=20)\n",
    "plt.xlabel('Monto del estado de cuenta (USD)')\n",
    "plt.ylabel('Cantidad clientes')\n",
    "plt.title('BILL_AMT4')"
   ]
  },
  {
   "cell_type": "code",
   "execution_count": 33,
   "id": "c6339c08",
   "metadata": {},
   "outputs": [
    {
     "data": {
      "text/plain": [
       "0.0        3506\n",
       "390.0       235\n",
       "780.0        94\n",
       "316.0        79\n",
       "326.0        62\n",
       "           ... \n",
       "19341.0       1\n",
       "66726.0       1\n",
       "80682.0       1\n",
       "28508.0       1\n",
       "32428.0       1\n",
       "Name: BILL_AMT5, Length: 21010, dtype: int64"
      ]
     },
     "execution_count": 33,
     "metadata": {},
     "output_type": "execute_result"
    }
   ],
   "source": [
    "data['BILL_AMT5'].value_counts()"
   ]
  },
  {
   "cell_type": "code",
   "execution_count": 34,
   "id": "28b98c45",
   "metadata": {},
   "outputs": [
    {
     "data": {
      "text/plain": [
       "Text(0.5, 1.0, 'BILL_AMT5')"
      ]
     },
     "execution_count": 34,
     "metadata": {},
     "output_type": "execute_result"
    },
    {
     "data": {
      "image/png": "[encoded data removed]",
      "text/plain": [
       "<Figure size 640x480 with 1 Axes>"
      ]
     },
     "metadata": {},
     "output_type": "display_data"
    }
   ],
   "source": [
    "plt.hist(data[\"BILL_AMT5\"], bins=20)\n",
    "plt.xlabel('Monto del estado de cuenta (USD)')\n",
    "plt.ylabel('Cantidad clientes')\n",
    "plt.title('BILL_AMT5')"
   ]
  },
  {
   "cell_type": "code",
   "execution_count": 35,
   "id": "3be8c305",
   "metadata": {},
   "outputs": [
    {
     "data": {
      "text/plain": [
       "0.0         4020\n",
       "390.0        207\n",
       "780.0         86\n",
       "150.0         78\n",
       "316.0         77\n",
       "            ... \n",
       "26852.0        1\n",
       "108660.0       1\n",
       "480.0          1\n",
       "15298.0        1\n",
       "15313.0        1\n",
       "Name: BILL_AMT6, Length: 20604, dtype: int64"
      ]
     },
     "execution_count": 35,
     "metadata": {},
     "output_type": "execute_result"
    }
   ],
   "source": [
    "data['BILL_AMT6'].value_counts()"
   ]
  },
  {
   "cell_type": "code",
   "execution_count": 36,
   "id": "607b35b8",
   "metadata": {},
   "outputs": [
    {
     "data": {
      "text/plain": [
       "Text(0.5, 1.0, 'BILL_AMT6')"
      ]
     },
     "execution_count": 36,
     "metadata": {},
     "output_type": "execute_result"
    },
    {
     "data": {
      "image/png": "[encoded data removed]",
      "text/plain": [
       "<Figure size 640x480 with 1 Axes>"
      ]
     },
     "metadata": {},
     "output_type": "display_data"
    }
   ],
   "source": [
    "plt.hist(data[\"BILL_AMT6\"], bins=20)\n",
    "plt.xlabel('Monto del estado de cuenta (USD)')\n",
    "plt.ylabel('Cantidad clientes')\n",
    "plt.title('BILL_AMT6')"
   ]
  },
  {
   "cell_type": "code",
   "execution_count": 37,
   "id": "3a271d2e",
   "metadata": {},
   "outputs": [
    {
     "data": {
      "text/plain": [
       "0.0         5249\n",
       "1.0            9\n",
       "2.0           14\n",
       "3.0           15\n",
       "4.0           18\n",
       "            ... \n",
       "405016.0       1\n",
       "423903.0       1\n",
       "493358.0       1\n",
       "505000.0       1\n",
       "873552.0       1\n",
       "Name: PAY_AMT1, Length: 7943, dtype: int64"
      ]
     },
     "execution_count": 37,
     "metadata": {},
     "output_type": "execute_result"
    }
   ],
   "source": [
    "data['PAY_AMT1'].value_counts().sort_index()"
   ]
  },
  {
   "cell_type": "code",
   "execution_count": 38,
   "id": "b0744bd2",
   "metadata": {},
   "outputs": [
    {
     "data": {
      "text/plain": [
       "0.0          5396\n",
       "1.0            15\n",
       "2.0            20\n",
       "3.0            18\n",
       "4.0            11\n",
       "             ... \n",
       "580464.0        1\n",
       "1024516.0       1\n",
       "1215471.0       1\n",
       "1227082.0       1\n",
       "1684259.0       1\n",
       "Name: PAY_AMT2, Length: 7899, dtype: int64"
      ]
     },
     "execution_count": 38,
     "metadata": {},
     "output_type": "execute_result"
    }
   ],
   "source": [
    "data['PAY_AMT2'].value_counts().sort_index()"
   ]
  },
  {
   "cell_type": "code",
   "execution_count": 39,
   "id": "02a673d2",
   "metadata": {},
   "outputs": [
    {
     "data": {
      "text/plain": [
       "0.0         5968\n",
       "1.0           13\n",
       "2.0           19\n",
       "3.0           14\n",
       "4.0           15\n",
       "            ... \n",
       "400972.0       1\n",
       "417588.0       1\n",
       "508229.0       1\n",
       "889043.0       1\n",
       "896040.0       1\n",
       "Name: PAY_AMT3, Length: 7518, dtype: int64"
      ]
     },
     "execution_count": 39,
     "metadata": {},
     "output_type": "execute_result"
    }
   ],
   "source": [
    "data['PAY_AMT3'].value_counts().sort_index()"
   ]
  },
  {
   "cell_type": "code",
   "execution_count": 40,
   "id": "92a18226",
   "metadata": {},
   "outputs": [
    {
     "data": {
      "text/plain": [
       "0.0         6408\n",
       "1.0           22\n",
       "2.0           22\n",
       "3.0           13\n",
       "4.0           20\n",
       "            ... \n",
       "400046.0       1\n",
       "432130.0       1\n",
       "497000.0       1\n",
       "528897.0       1\n",
       "621000.0       1\n",
       "Name: PAY_AMT4, Length: 6937, dtype: int64"
      ]
     },
     "execution_count": 40,
     "metadata": {},
     "output_type": "execute_result"
    }
   ],
   "source": [
    "data['PAY_AMT4'].value_counts().sort_index()"
   ]
  },
  {
   "cell_type": "code",
   "execution_count": 41,
   "id": "1b2e879e",
   "metadata": {},
   "outputs": [
    {
     "data": {
      "text/plain": [
       "0.0         6703\n",
       "1.0           21\n",
       "2.0           13\n",
       "3.0           13\n",
       "4.0           12\n",
       "            ... \n",
       "332000.0       1\n",
       "379267.0       1\n",
       "388071.0       1\n",
       "417990.0       1\n",
       "426529.0       1\n",
       "Name: PAY_AMT5, Length: 6897, dtype: int64"
      ]
     },
     "execution_count": 41,
     "metadata": {},
     "output_type": "execute_result"
    }
   ],
   "source": [
    "data['PAY_AMT5'].value_counts().sort_index()"
   ]
  },
  {
   "cell_type": "code",
   "execution_count": 42,
   "id": "5eca8192",
   "metadata": {},
   "outputs": [
    {
     "data": {
      "text/plain": [
       "0.0         7173\n",
       "1.0           20\n",
       "2.0            9\n",
       "3.0           14\n",
       "4.0           12\n",
       "            ... \n",
       "403500.0       1\n",
       "422000.0       1\n",
       "443001.0       1\n",
       "527143.0       1\n",
       "528666.0       1\n",
       "Name: PAY_AMT6, Length: 6939, dtype: int64"
      ]
     },
     "execution_count": 42,
     "metadata": {},
     "output_type": "execute_result"
    }
   ],
   "source": [
    "data['PAY_AMT6'].value_counts().sort_index()"
   ]
  },
  {
   "cell_type": "code",
   "execution_count": 43,
   "id": "13dbc295",
   "metadata": {},
   "outputs": [
    {
     "data": {
      "text/html": [
       "<div>\n",
       "<style scoped>\n",
       "    .dataframe tbody tr th:only-of-type {\n",
       "        vertical-align: middle;\n",
       "    }\n",
       "\n",
       "    .dataframe tbody tr th {\n",
       "        vertical-align: top;\n",
       "    }\n",
       "\n",
       "    .dataframe thead th {\n",
       "        text-align: right;\n",
       "    }\n",
       "</style>\n",
       "<table border=\"1\" class=\"dataframe\">\n",
       "  <thead>\n",
       "    <tr style=\"text-align: right;\">\n",
       "      <th></th>\n",
       "      <th>PAY_AMT1</th>\n",
       "      <th>PAY_AMT2</th>\n",
       "      <th>PAY_AMT3</th>\n",
       "      <th>PAY_AMT4</th>\n",
       "      <th>PAY_AMT5</th>\n",
       "      <th>PAY_AMT6</th>\n",
       "    </tr>\n",
       "  </thead>\n",
       "  <tbody>\n",
       "    <tr>\n",
       "      <th>count</th>\n",
       "      <td>30000.0</td>\n",
       "      <td>30000.0</td>\n",
       "      <td>30000.0</td>\n",
       "      <td>30000.0</td>\n",
       "      <td>30000.0</td>\n",
       "      <td>30000.0</td>\n",
       "    </tr>\n",
       "    <tr>\n",
       "      <th>mean</th>\n",
       "      <td>5664.0</td>\n",
       "      <td>5921.0</td>\n",
       "      <td>5226.0</td>\n",
       "      <td>4826.0</td>\n",
       "      <td>4799.0</td>\n",
       "      <td>5216.0</td>\n",
       "    </tr>\n",
       "    <tr>\n",
       "      <th>std</th>\n",
       "      <td>16563.0</td>\n",
       "      <td>23041.0</td>\n",
       "      <td>17607.0</td>\n",
       "      <td>15666.0</td>\n",
       "      <td>15278.0</td>\n",
       "      <td>17777.0</td>\n",
       "    </tr>\n",
       "    <tr>\n",
       "      <th>min</th>\n",
       "      <td>0.0</td>\n",
       "      <td>0.0</td>\n",
       "      <td>0.0</td>\n",
       "      <td>0.0</td>\n",
       "      <td>0.0</td>\n",
       "      <td>0.0</td>\n",
       "    </tr>\n",
       "    <tr>\n",
       "      <th>25%</th>\n",
       "      <td>1000.0</td>\n",
       "      <td>833.0</td>\n",
       "      <td>390.0</td>\n",
       "      <td>296.0</td>\n",
       "      <td>252.0</td>\n",
       "      <td>118.0</td>\n",
       "    </tr>\n",
       "    <tr>\n",
       "      <th>50%</th>\n",
       "      <td>2100.0</td>\n",
       "      <td>2009.0</td>\n",
       "      <td>1800.0</td>\n",
       "      <td>1500.0</td>\n",
       "      <td>1500.0</td>\n",
       "      <td>1500.0</td>\n",
       "    </tr>\n",
       "    <tr>\n",
       "      <th>75%</th>\n",
       "      <td>5006.0</td>\n",
       "      <td>5000.0</td>\n",
       "      <td>4505.0</td>\n",
       "      <td>4013.0</td>\n",
       "      <td>4032.0</td>\n",
       "      <td>4000.0</td>\n",
       "    </tr>\n",
       "    <tr>\n",
       "      <th>max</th>\n",
       "      <td>873552.0</td>\n",
       "      <td>1684259.0</td>\n",
       "      <td>896040.0</td>\n",
       "      <td>621000.0</td>\n",
       "      <td>426529.0</td>\n",
       "      <td>528666.0</td>\n",
       "    </tr>\n",
       "  </tbody>\n",
       "</table>\n",
       "</div>"
      ],
      "text/plain": [
       "       PAY_AMT1   PAY_AMT2  PAY_AMT3  PAY_AMT4  PAY_AMT5  PAY_AMT6\n",
       "count   30000.0    30000.0   30000.0   30000.0   30000.0   30000.0\n",
       "mean     5664.0     5921.0    5226.0    4826.0    4799.0    5216.0\n",
       "std     16563.0    23041.0   17607.0   15666.0   15278.0   17777.0\n",
       "min         0.0        0.0       0.0       0.0       0.0       0.0\n",
       "25%      1000.0      833.0     390.0     296.0     252.0     118.0\n",
       "50%      2100.0     2009.0    1800.0    1500.0    1500.0    1500.0\n",
       "75%      5006.0     5000.0    4505.0    4013.0    4032.0    4000.0\n",
       "max    873552.0  1684259.0  896040.0  621000.0  426529.0  528666.0"
      ]
     },
     "execution_count": 43,
     "metadata": {},
     "output_type": "execute_result"
    }
   ],
   "source": [
    "PAY_AMT=data[['PAY_AMT1','PAY_AMT2','PAY_AMT3','PAY_AMT4','PAY_AMT5','PAY_AMT6']]\n",
    "PAY_AMT.describe().round()"
   ]
  },
  {
   "cell_type": "code",
   "execution_count": 44,
   "id": "057e52de",
   "metadata": {},
   "outputs": [
    {
     "data": {
      "image/png": "[encoded data removed]",
      "text/plain": [
       "<Figure size 2000x1500 with 6 Axes>"
      ]
     },
     "metadata": {},
     "output_type": "display_data"
    }
   ],
   "source": [
    "fig, axs = plt.subplots(nrows=3, ncols=2, figsize=(20, 15))\n",
    "\n",
    "# plot time signal:\n",
    "axs[0, 0].set_title(\"PAY_AMT1\")\n",
    "axs[0, 0].boxplot(data['PAY_AMT1'])\n",
    "axs[0, 0].set_xlabel(\"Importe del pago\")\n",
    "axs[0, 0].set_ylabel(\"Frecuencia\")\n",
    "\n",
    "axs[0, 1].set_title(\"PAY_AMT2\")\n",
    "axs[0, 1].boxplot(data['PAY_AMT2'])\n",
    "axs[0, 1].set_xlabel(\"Importe del pago\")\n",
    "axs[0, 1].set_ylabel(\"Frecuencia\")\n",
    "\n",
    "axs[1, 0].set_title(\"PAY_AMT3\")\n",
    "axs[1, 0].boxplot(data['PAY_AMT3'])\n",
    "axs[1, 0].set_xlabel(\"Importe del pago\")\n",
    "axs[1, 0].set_ylabel(\"Frecuencia\")\n",
    "\n",
    "axs[1, 1].set_title(\"PAY_AMT4\")\n",
    "axs[1, 1].boxplot(data['PAY_AMT4'])\n",
    "axs[1, 1].set_xlabel(\"Importe del pago\")\n",
    "axs[1, 1].set_ylabel(\"Frecuencia\")\n",
    "\n",
    "axs[2, 0].set_title(\"PAY_AMT5\")\n",
    "axs[2, 0].boxplot(data['PAY_AMT5'])\n",
    "axs[2, 0].set_xlabel(\"Importe del pago\")\n",
    "axs[2, 0].set_ylabel(\"Frecuencia\")\n",
    "\n",
    "axs[2, 1].set_title(\"PAY_AMT6\")\n",
    "axs[2, 1].boxplot(data['PAY_AMT6'])\n",
    "axs[2, 1].set_xlabel(\"Importe del pago\")\n",
    "axs[2, 1].set_ylabel(\"Frecuencia\")\n",
    "\n",
    "\n",
    "fig.tight_layout()\n",
    "plt.show()"
   ]
  },
  {
   "cell_type": "markdown",
   "id": "b59b61ec",
   "metadata": {},
   "source": [
    "El 75% de los montos de importe de pago anterior se encuentra entre los 400 y 500 dólares, los datos que se encuentra sobre estos valores podriamos considerarlos datos atípicos."
   ]
  },
  {
   "cell_type": "code",
   "execution_count": 45,
   "id": "734e72f1",
   "metadata": {},
   "outputs": [
    {
     "data": {
      "text/plain": [
       "0    23364\n",
       "1     6636\n",
       "Name: default.payment.next.month, dtype: int64"
      ]
     },
     "execution_count": 45,
     "metadata": {},
     "output_type": "execute_result"
    }
   ],
   "source": [
    "#Variable respuesta\n",
    "\n",
    "data['default.payment.next.month'].value_counts()"
   ]
  },
  {
   "cell_type": "code",
   "execution_count": 46,
   "id": "3e707811",
   "metadata": {},
   "outputs": [
    {
     "data": {
      "text/plain": [
       "<AxesSubplot:title={'center':'Default payment'}>"
      ]
     },
     "execution_count": 46,
     "metadata": {},
     "output_type": "execute_result"
    },
    {
     "data": {
      "image/png": "[encoded data removed]",
      "text/plain": [
       "<Figure size 640x480 with 1 Axes>"
      ]
     },
     "metadata": {},
     "output_type": "display_data"
    }
   ],
   "source": [
    "data['default.payment.next.month'].value_counts().plot(kind=\"bar\", title=\"Default payment\")"
   ]
  },
  {
   "cell_type": "markdown",
   "id": "ebeaabe3",
   "metadata": {},
   "source": [
    "El 77.8% de los clientes no se encuentran con Default payment."
   ]
  },
  {
   "cell_type": "code",
   "execution_count": 47,
   "id": "fab59469",
   "metadata": {},
   "outputs": [
    {
     "data": {
      "text/html": [
       "<div>\n",
       "<style scoped>\n",
       "    .dataframe tbody tr th:only-of-type {\n",
       "        vertical-align: middle;\n",
       "    }\n",
       "\n",
       "    .dataframe tbody tr th {\n",
       "        vertical-align: top;\n",
       "    }\n",
       "\n",
       "    .dataframe thead th {\n",
       "        text-align: right;\n",
       "    }\n",
       "</style>\n",
       "<table border=\"1\" class=\"dataframe\">\n",
       "  <thead>\n",
       "    <tr style=\"text-align: right;\">\n",
       "      <th></th>\n",
       "      <th>LIMIT_BAL</th>\n",
       "      <th>SEX</th>\n",
       "      <th>EDUCATION</th>\n",
       "      <th>MARRIAGE</th>\n",
       "      <th>AGE</th>\n",
       "      <th>PAY_0</th>\n",
       "      <th>PAY_2</th>\n",
       "      <th>PAY_3</th>\n",
       "      <th>PAY_4</th>\n",
       "      <th>PAY_5</th>\n",
       "      <th>...</th>\n",
       "      <th>BILL_AMT4</th>\n",
       "      <th>BILL_AMT5</th>\n",
       "      <th>BILL_AMT6</th>\n",
       "      <th>PAY_AMT1</th>\n",
       "      <th>PAY_AMT2</th>\n",
       "      <th>PAY_AMT3</th>\n",
       "      <th>PAY_AMT4</th>\n",
       "      <th>PAY_AMT5</th>\n",
       "      <th>PAY_AMT6</th>\n",
       "      <th>default.payment.next.month</th>\n",
       "    </tr>\n",
       "  </thead>\n",
       "  <tbody>\n",
       "    <tr>\n",
       "      <th>LIMIT_BAL</th>\n",
       "      <td>1.000000</td>\n",
       "      <td>0.024755</td>\n",
       "      <td>-0.219365</td>\n",
       "      <td>-0.111012</td>\n",
       "      <td>0.144713</td>\n",
       "      <td>-0.271214</td>\n",
       "      <td>-0.296382</td>\n",
       "      <td>-0.286123</td>\n",
       "      <td>-0.267460</td>\n",
       "      <td>-0.249411</td>\n",
       "      <td>...</td>\n",
       "      <td>0.293988</td>\n",
       "      <td>0.295562</td>\n",
       "      <td>0.290389</td>\n",
       "      <td>0.195236</td>\n",
       "      <td>0.178408</td>\n",
       "      <td>0.210167</td>\n",
       "      <td>0.203242</td>\n",
       "      <td>0.217202</td>\n",
       "      <td>0.219595</td>\n",
       "      <td>-0.153520</td>\n",
       "    </tr>\n",
       "    <tr>\n",
       "      <th>SEX</th>\n",
       "      <td>0.024755</td>\n",
       "      <td>1.000000</td>\n",
       "      <td>0.013691</td>\n",
       "      <td>-0.028522</td>\n",
       "      <td>-0.090874</td>\n",
       "      <td>-0.057643</td>\n",
       "      <td>-0.070771</td>\n",
       "      <td>-0.066096</td>\n",
       "      <td>-0.060173</td>\n",
       "      <td>-0.055064</td>\n",
       "      <td>...</td>\n",
       "      <td>-0.021880</td>\n",
       "      <td>-0.017005</td>\n",
       "      <td>-0.016733</td>\n",
       "      <td>-0.000242</td>\n",
       "      <td>-0.001391</td>\n",
       "      <td>-0.008597</td>\n",
       "      <td>-0.002229</td>\n",
       "      <td>-0.001667</td>\n",
       "      <td>-0.002766</td>\n",
       "      <td>-0.039961</td>\n",
       "    </tr>\n",
       "    <tr>\n",
       "      <th>EDUCATION</th>\n",
       "      <td>-0.219365</td>\n",
       "      <td>0.013691</td>\n",
       "      <td>1.000000</td>\n",
       "      <td>-0.131816</td>\n",
       "      <td>0.175499</td>\n",
       "      <td>0.105193</td>\n",
       "      <td>0.120662</td>\n",
       "      <td>0.113370</td>\n",
       "      <td>0.108355</td>\n",
       "      <td>0.096613</td>\n",
       "      <td>...</td>\n",
       "      <td>-0.002208</td>\n",
       "      <td>-0.009384</td>\n",
       "      <td>-0.010872</td>\n",
       "      <td>-0.038229</td>\n",
       "      <td>-0.029372</td>\n",
       "      <td>-0.039936</td>\n",
       "      <td>-0.038786</td>\n",
       "      <td>-0.042082</td>\n",
       "      <td>-0.039017</td>\n",
       "      <td>0.026969</td>\n",
       "    </tr>\n",
       "    <tr>\n",
       "      <th>MARRIAGE</th>\n",
       "      <td>-0.111012</td>\n",
       "      <td>-0.028522</td>\n",
       "      <td>-0.131816</td>\n",
       "      <td>1.000000</td>\n",
       "      <td>-0.412001</td>\n",
       "      <td>0.018557</td>\n",
       "      <td>0.023620</td>\n",
       "      <td>0.032399</td>\n",
       "      <td>0.031831</td>\n",
       "      <td>0.034377</td>\n",
       "      <td>...</td>\n",
       "      <td>-0.027274</td>\n",
       "      <td>-0.029270</td>\n",
       "      <td>-0.025066</td>\n",
       "      <td>-0.004653</td>\n",
       "      <td>-0.009513</td>\n",
       "      <td>-0.004250</td>\n",
       "      <td>-0.013970</td>\n",
       "      <td>-0.003019</td>\n",
       "      <td>-0.008383</td>\n",
       "      <td>-0.027575</td>\n",
       "    </tr>\n",
       "    <tr>\n",
       "      <th>AGE</th>\n",
       "      <td>0.144713</td>\n",
       "      <td>-0.090874</td>\n",
       "      <td>0.175499</td>\n",
       "      <td>-0.412001</td>\n",
       "      <td>1.000000</td>\n",
       "      <td>-0.039447</td>\n",
       "      <td>-0.050148</td>\n",
       "      <td>-0.053048</td>\n",
       "      <td>-0.049722</td>\n",
       "      <td>-0.053826</td>\n",
       "      <td>...</td>\n",
       "      <td>0.051353</td>\n",
       "      <td>0.049345</td>\n",
       "      <td>0.047613</td>\n",
       "      <td>0.026147</td>\n",
       "      <td>0.021785</td>\n",
       "      <td>0.029247</td>\n",
       "      <td>0.021379</td>\n",
       "      <td>0.022850</td>\n",
       "      <td>0.019478</td>\n",
       "      <td>0.013890</td>\n",
       "    </tr>\n",
       "    <tr>\n",
       "      <th>PAY_0</th>\n",
       "      <td>-0.271214</td>\n",
       "      <td>-0.057643</td>\n",
       "      <td>0.105193</td>\n",
       "      <td>0.018557</td>\n",
       "      <td>-0.039447</td>\n",
       "      <td>1.000000</td>\n",
       "      <td>0.672164</td>\n",
       "      <td>0.574245</td>\n",
       "      <td>0.538841</td>\n",
       "      <td>0.509426</td>\n",
       "      <td>...</td>\n",
       "      <td>0.179125</td>\n",
       "      <td>0.180635</td>\n",
       "      <td>0.176980</td>\n",
       "      <td>-0.079269</td>\n",
       "      <td>-0.070101</td>\n",
       "      <td>-0.070561</td>\n",
       "      <td>-0.064005</td>\n",
       "      <td>-0.058190</td>\n",
       "      <td>-0.058673</td>\n",
       "      <td>0.324794</td>\n",
       "    </tr>\n",
       "    <tr>\n",
       "      <th>PAY_2</th>\n",
       "      <td>-0.296382</td>\n",
       "      <td>-0.070771</td>\n",
       "      <td>0.120662</td>\n",
       "      <td>0.023620</td>\n",
       "      <td>-0.050148</td>\n",
       "      <td>0.672164</td>\n",
       "      <td>1.000000</td>\n",
       "      <td>0.766552</td>\n",
       "      <td>0.662067</td>\n",
       "      <td>0.622780</td>\n",
       "      <td>...</td>\n",
       "      <td>0.222237</td>\n",
       "      <td>0.221348</td>\n",
       "      <td>0.219403</td>\n",
       "      <td>-0.080701</td>\n",
       "      <td>-0.058990</td>\n",
       "      <td>-0.055901</td>\n",
       "      <td>-0.046858</td>\n",
       "      <td>-0.037093</td>\n",
       "      <td>-0.036500</td>\n",
       "      <td>0.263551</td>\n",
       "    </tr>\n",
       "    <tr>\n",
       "      <th>PAY_3</th>\n",
       "      <td>-0.286123</td>\n",
       "      <td>-0.066096</td>\n",
       "      <td>0.113370</td>\n",
       "      <td>0.032399</td>\n",
       "      <td>-0.053048</td>\n",
       "      <td>0.574245</td>\n",
       "      <td>0.766552</td>\n",
       "      <td>1.000000</td>\n",
       "      <td>0.777359</td>\n",
       "      <td>0.686775</td>\n",
       "      <td>...</td>\n",
       "      <td>0.227202</td>\n",
       "      <td>0.225145</td>\n",
       "      <td>0.222327</td>\n",
       "      <td>0.001295</td>\n",
       "      <td>-0.066793</td>\n",
       "      <td>-0.053311</td>\n",
       "      <td>-0.046067</td>\n",
       "      <td>-0.035863</td>\n",
       "      <td>-0.035861</td>\n",
       "      <td>0.235253</td>\n",
       "    </tr>\n",
       "    <tr>\n",
       "      <th>PAY_4</th>\n",
       "      <td>-0.267460</td>\n",
       "      <td>-0.060173</td>\n",
       "      <td>0.108355</td>\n",
       "      <td>0.031831</td>\n",
       "      <td>-0.049722</td>\n",
       "      <td>0.538841</td>\n",
       "      <td>0.662067</td>\n",
       "      <td>0.777359</td>\n",
       "      <td>1.000000</td>\n",
       "      <td>0.819835</td>\n",
       "      <td>...</td>\n",
       "      <td>0.245917</td>\n",
       "      <td>0.242902</td>\n",
       "      <td>0.239154</td>\n",
       "      <td>-0.009362</td>\n",
       "      <td>-0.001944</td>\n",
       "      <td>-0.069235</td>\n",
       "      <td>-0.043461</td>\n",
       "      <td>-0.033590</td>\n",
       "      <td>-0.026565</td>\n",
       "      <td>0.216614</td>\n",
       "    </tr>\n",
       "    <tr>\n",
       "      <th>PAY_5</th>\n",
       "      <td>-0.249411</td>\n",
       "      <td>-0.055064</td>\n",
       "      <td>0.096613</td>\n",
       "      <td>0.034377</td>\n",
       "      <td>-0.053826</td>\n",
       "      <td>0.509426</td>\n",
       "      <td>0.622780</td>\n",
       "      <td>0.686775</td>\n",
       "      <td>0.819835</td>\n",
       "      <td>1.000000</td>\n",
       "      <td>...</td>\n",
       "      <td>0.271915</td>\n",
       "      <td>0.269783</td>\n",
       "      <td>0.262509</td>\n",
       "      <td>-0.006089</td>\n",
       "      <td>-0.003191</td>\n",
       "      <td>0.009062</td>\n",
       "      <td>-0.058299</td>\n",
       "      <td>-0.033337</td>\n",
       "      <td>-0.023027</td>\n",
       "      <td>0.204149</td>\n",
       "    </tr>\n",
       "    <tr>\n",
       "      <th>PAY_6</th>\n",
       "      <td>-0.235195</td>\n",
       "      <td>-0.044008</td>\n",
       "      <td>0.080854</td>\n",
       "      <td>0.033168</td>\n",
       "      <td>-0.048773</td>\n",
       "      <td>0.474553</td>\n",
       "      <td>0.575501</td>\n",
       "      <td>0.632684</td>\n",
       "      <td>0.716449</td>\n",
       "      <td>0.816900</td>\n",
       "      <td>...</td>\n",
       "      <td>0.266356</td>\n",
       "      <td>0.290894</td>\n",
       "      <td>0.285091</td>\n",
       "      <td>-0.001496</td>\n",
       "      <td>-0.005223</td>\n",
       "      <td>0.005834</td>\n",
       "      <td>0.019018</td>\n",
       "      <td>-0.046434</td>\n",
       "      <td>-0.025299</td>\n",
       "      <td>0.186866</td>\n",
       "    </tr>\n",
       "    <tr>\n",
       "      <th>BILL_AMT1</th>\n",
       "      <td>0.285430</td>\n",
       "      <td>-0.033642</td>\n",
       "      <td>0.021256</td>\n",
       "      <td>-0.027832</td>\n",
       "      <td>0.056239</td>\n",
       "      <td>0.187068</td>\n",
       "      <td>0.234887</td>\n",
       "      <td>0.208473</td>\n",
       "      <td>0.202812</td>\n",
       "      <td>0.206684</td>\n",
       "      <td>...</td>\n",
       "      <td>0.860272</td>\n",
       "      <td>0.829779</td>\n",
       "      <td>0.802650</td>\n",
       "      <td>0.140277</td>\n",
       "      <td>0.099355</td>\n",
       "      <td>0.156887</td>\n",
       "      <td>0.158303</td>\n",
       "      <td>0.167026</td>\n",
       "      <td>0.179341</td>\n",
       "      <td>-0.019644</td>\n",
       "    </tr>\n",
       "    <tr>\n",
       "      <th>BILL_AMT2</th>\n",
       "      <td>0.278314</td>\n",
       "      <td>-0.031183</td>\n",
       "      <td>0.016370</td>\n",
       "      <td>-0.025294</td>\n",
       "      <td>0.054283</td>\n",
       "      <td>0.189859</td>\n",
       "      <td>0.235257</td>\n",
       "      <td>0.237295</td>\n",
       "      <td>0.225816</td>\n",
       "      <td>0.226913</td>\n",
       "      <td>...</td>\n",
       "      <td>0.892482</td>\n",
       "      <td>0.859778</td>\n",
       "      <td>0.831594</td>\n",
       "      <td>0.280365</td>\n",
       "      <td>0.100851</td>\n",
       "      <td>0.150718</td>\n",
       "      <td>0.147398</td>\n",
       "      <td>0.157957</td>\n",
       "      <td>0.174256</td>\n",
       "      <td>-0.014193</td>\n",
       "    </tr>\n",
       "    <tr>\n",
       "      <th>BILL_AMT3</th>\n",
       "      <td>0.283236</td>\n",
       "      <td>-0.024563</td>\n",
       "      <td>0.011099</td>\n",
       "      <td>-0.029082</td>\n",
       "      <td>0.053710</td>\n",
       "      <td>0.179785</td>\n",
       "      <td>0.224146</td>\n",
       "      <td>0.227494</td>\n",
       "      <td>0.244983</td>\n",
       "      <td>0.243335</td>\n",
       "      <td>...</td>\n",
       "      <td>0.923969</td>\n",
       "      <td>0.883910</td>\n",
       "      <td>0.853320</td>\n",
       "      <td>0.244335</td>\n",
       "      <td>0.316936</td>\n",
       "      <td>0.130011</td>\n",
       "      <td>0.143405</td>\n",
       "      <td>0.179712</td>\n",
       "      <td>0.182326</td>\n",
       "      <td>-0.014076</td>\n",
       "    </tr>\n",
       "    <tr>\n",
       "      <th>BILL_AMT4</th>\n",
       "      <td>0.293988</td>\n",
       "      <td>-0.021880</td>\n",
       "      <td>-0.002208</td>\n",
       "      <td>-0.027274</td>\n",
       "      <td>0.051353</td>\n",
       "      <td>0.179125</td>\n",
       "      <td>0.222237</td>\n",
       "      <td>0.227202</td>\n",
       "      <td>0.245917</td>\n",
       "      <td>0.271915</td>\n",
       "      <td>...</td>\n",
       "      <td>1.000000</td>\n",
       "      <td>0.940134</td>\n",
       "      <td>0.900941</td>\n",
       "      <td>0.233012</td>\n",
       "      <td>0.207564</td>\n",
       "      <td>0.300023</td>\n",
       "      <td>0.130191</td>\n",
       "      <td>0.160433</td>\n",
       "      <td>0.177637</td>\n",
       "      <td>-0.010156</td>\n",
       "    </tr>\n",
       "    <tr>\n",
       "      <th>BILL_AMT5</th>\n",
       "      <td>0.295562</td>\n",
       "      <td>-0.017005</td>\n",
       "      <td>-0.009384</td>\n",
       "      <td>-0.029270</td>\n",
       "      <td>0.049345</td>\n",
       "      <td>0.180635</td>\n",
       "      <td>0.221348</td>\n",
       "      <td>0.225145</td>\n",
       "      <td>0.242902</td>\n",
       "      <td>0.269783</td>\n",
       "      <td>...</td>\n",
       "      <td>0.940134</td>\n",
       "      <td>1.000000</td>\n",
       "      <td>0.946197</td>\n",
       "      <td>0.217031</td>\n",
       "      <td>0.181246</td>\n",
       "      <td>0.252305</td>\n",
       "      <td>0.293118</td>\n",
       "      <td>0.141574</td>\n",
       "      <td>0.164184</td>\n",
       "      <td>-0.006760</td>\n",
       "    </tr>\n",
       "    <tr>\n",
       "      <th>BILL_AMT6</th>\n",
       "      <td>0.290389</td>\n",
       "      <td>-0.016733</td>\n",
       "      <td>-0.010872</td>\n",
       "      <td>-0.025066</td>\n",
       "      <td>0.047613</td>\n",
       "      <td>0.176980</td>\n",
       "      <td>0.219403</td>\n",
       "      <td>0.222327</td>\n",
       "      <td>0.239154</td>\n",
       "      <td>0.262509</td>\n",
       "      <td>...</td>\n",
       "      <td>0.900941</td>\n",
       "      <td>0.946197</td>\n",
       "      <td>1.000000</td>\n",
       "      <td>0.199965</td>\n",
       "      <td>0.172663</td>\n",
       "      <td>0.233770</td>\n",
       "      <td>0.250237</td>\n",
       "      <td>0.307729</td>\n",
       "      <td>0.115494</td>\n",
       "      <td>-0.005372</td>\n",
       "    </tr>\n",
       "    <tr>\n",
       "      <th>PAY_AMT1</th>\n",
       "      <td>0.195236</td>\n",
       "      <td>-0.000242</td>\n",
       "      <td>-0.038229</td>\n",
       "      <td>-0.004653</td>\n",
       "      <td>0.026147</td>\n",
       "      <td>-0.079269</td>\n",
       "      <td>-0.080701</td>\n",
       "      <td>0.001295</td>\n",
       "      <td>-0.009362</td>\n",
       "      <td>-0.006089</td>\n",
       "      <td>...</td>\n",
       "      <td>0.233012</td>\n",
       "      <td>0.217031</td>\n",
       "      <td>0.199965</td>\n",
       "      <td>1.000000</td>\n",
       "      <td>0.285576</td>\n",
       "      <td>0.252191</td>\n",
       "      <td>0.199558</td>\n",
       "      <td>0.148459</td>\n",
       "      <td>0.185735</td>\n",
       "      <td>-0.072929</td>\n",
       "    </tr>\n",
       "    <tr>\n",
       "      <th>PAY_AMT2</th>\n",
       "      <td>0.178408</td>\n",
       "      <td>-0.001391</td>\n",
       "      <td>-0.029372</td>\n",
       "      <td>-0.009513</td>\n",
       "      <td>0.021785</td>\n",
       "      <td>-0.070101</td>\n",
       "      <td>-0.058990</td>\n",
       "      <td>-0.066793</td>\n",
       "      <td>-0.001944</td>\n",
       "      <td>-0.003191</td>\n",
       "      <td>...</td>\n",
       "      <td>0.207564</td>\n",
       "      <td>0.181246</td>\n",
       "      <td>0.172663</td>\n",
       "      <td>0.285576</td>\n",
       "      <td>1.000000</td>\n",
       "      <td>0.244770</td>\n",
       "      <td>0.180107</td>\n",
       "      <td>0.180908</td>\n",
       "      <td>0.157634</td>\n",
       "      <td>-0.058579</td>\n",
       "    </tr>\n",
       "    <tr>\n",
       "      <th>PAY_AMT3</th>\n",
       "      <td>0.210167</td>\n",
       "      <td>-0.008597</td>\n",
       "      <td>-0.039936</td>\n",
       "      <td>-0.004250</td>\n",
       "      <td>0.029247</td>\n",
       "      <td>-0.070561</td>\n",
       "      <td>-0.055901</td>\n",
       "      <td>-0.053311</td>\n",
       "      <td>-0.069235</td>\n",
       "      <td>0.009062</td>\n",
       "      <td>...</td>\n",
       "      <td>0.300023</td>\n",
       "      <td>0.252305</td>\n",
       "      <td>0.233770</td>\n",
       "      <td>0.252191</td>\n",
       "      <td>0.244770</td>\n",
       "      <td>1.000000</td>\n",
       "      <td>0.216325</td>\n",
       "      <td>0.159214</td>\n",
       "      <td>0.162740</td>\n",
       "      <td>-0.056250</td>\n",
       "    </tr>\n",
       "    <tr>\n",
       "      <th>PAY_AMT4</th>\n",
       "      <td>0.203242</td>\n",
       "      <td>-0.002229</td>\n",
       "      <td>-0.038786</td>\n",
       "      <td>-0.013970</td>\n",
       "      <td>0.021379</td>\n",
       "      <td>-0.064005</td>\n",
       "      <td>-0.046858</td>\n",
       "      <td>-0.046067</td>\n",
       "      <td>-0.043461</td>\n",
       "      <td>-0.058299</td>\n",
       "      <td>...</td>\n",
       "      <td>0.130191</td>\n",
       "      <td>0.293118</td>\n",
       "      <td>0.250237</td>\n",
       "      <td>0.199558</td>\n",
       "      <td>0.180107</td>\n",
       "      <td>0.216325</td>\n",
       "      <td>1.000000</td>\n",
       "      <td>0.151830</td>\n",
       "      <td>0.157834</td>\n",
       "      <td>-0.056827</td>\n",
       "    </tr>\n",
       "    <tr>\n",
       "      <th>PAY_AMT5</th>\n",
       "      <td>0.217202</td>\n",
       "      <td>-0.001667</td>\n",
       "      <td>-0.042082</td>\n",
       "      <td>-0.003019</td>\n",
       "      <td>0.022850</td>\n",
       "      <td>-0.058190</td>\n",
       "      <td>-0.037093</td>\n",
       "      <td>-0.035863</td>\n",
       "      <td>-0.033590</td>\n",
       "      <td>-0.033337</td>\n",
       "      <td>...</td>\n",
       "      <td>0.160433</td>\n",
       "      <td>0.141574</td>\n",
       "      <td>0.307729</td>\n",
       "      <td>0.148459</td>\n",
       "      <td>0.180908</td>\n",
       "      <td>0.159214</td>\n",
       "      <td>0.151830</td>\n",
       "      <td>1.000000</td>\n",
       "      <td>0.154896</td>\n",
       "      <td>-0.055124</td>\n",
       "    </tr>\n",
       "    <tr>\n",
       "      <th>PAY_AMT6</th>\n",
       "      <td>0.219595</td>\n",
       "      <td>-0.002766</td>\n",
       "      <td>-0.039017</td>\n",
       "      <td>-0.008383</td>\n",
       "      <td>0.019478</td>\n",
       "      <td>-0.058673</td>\n",
       "      <td>-0.036500</td>\n",
       "      <td>-0.035861</td>\n",
       "      <td>-0.026565</td>\n",
       "      <td>-0.023027</td>\n",
       "      <td>...</td>\n",
       "      <td>0.177637</td>\n",
       "      <td>0.164184</td>\n",
       "      <td>0.115494</td>\n",
       "      <td>0.185735</td>\n",
       "      <td>0.157634</td>\n",
       "      <td>0.162740</td>\n",
       "      <td>0.157834</td>\n",
       "      <td>0.154896</td>\n",
       "      <td>1.000000</td>\n",
       "      <td>-0.053183</td>\n",
       "    </tr>\n",
       "    <tr>\n",
       "      <th>default.payment.next.month</th>\n",
       "      <td>-0.153520</td>\n",
       "      <td>-0.039961</td>\n",
       "      <td>0.026969</td>\n",
       "      <td>-0.027575</td>\n",
       "      <td>0.013890</td>\n",
       "      <td>0.324794</td>\n",
       "      <td>0.263551</td>\n",
       "      <td>0.235253</td>\n",
       "      <td>0.216614</td>\n",
       "      <td>0.204149</td>\n",
       "      <td>...</td>\n",
       "      <td>-0.010156</td>\n",
       "      <td>-0.006760</td>\n",
       "      <td>-0.005372</td>\n",
       "      <td>-0.072929</td>\n",
       "      <td>-0.058579</td>\n",
       "      <td>-0.056250</td>\n",
       "      <td>-0.056827</td>\n",
       "      <td>-0.055124</td>\n",
       "      <td>-0.053183</td>\n",
       "      <td>1.000000</td>\n",
       "    </tr>\n",
       "  </tbody>\n",
       "</table>\n",
       "<p>24 rows × 24 columns</p>\n",
       "</div>"
      ],
      "text/plain": [
       "                            LIMIT_BAL       SEX  EDUCATION  MARRIAGE  \\\n",
       "LIMIT_BAL                    1.000000  0.024755  -0.219365 -0.111012   \n",
       "SEX                          0.024755  1.000000   0.013691 -0.028522   \n",
       "EDUCATION                   -0.219365  0.013691   1.000000 -0.131816   \n",
       "MARRIAGE                    -0.111012 -0.028522  -0.131816  1.000000   \n",
       "AGE                          0.144713 -0.090874   0.175499 -0.412001   \n",
       "PAY_0                       -0.271214 -0.057643   0.105193  0.018557   \n",
       "PAY_2                       -0.296382 -0.070771   0.120662  0.023620   \n",
       "PAY_3                       -0.286123 -0.066096   0.113370  0.032399   \n",
       "PAY_4                       -0.267460 -0.060173   0.108355  0.031831   \n",
       "PAY_5                       -0.249411 -0.055064   0.096613  0.034377   \n",
       "PAY_6                       -0.235195 -0.044008   0.080854  0.033168   \n",
       "BILL_AMT1                    0.285430 -0.033642   0.021256 -0.027832   \n",
       "BILL_AMT2                    0.278314 -0.031183   0.016370 -0.025294   \n",
       "BILL_AMT3                    0.283236 -0.024563   0.011099 -0.029082   \n",
       "BILL_AMT4                    0.293988 -0.021880  -0.002208 -0.027274   \n",
       "BILL_AMT5                    0.295562 -0.017005  -0.009384 -0.029270   \n",
       "BILL_AMT6                    0.290389 -0.016733  -0.010872 -0.025066   \n",
       "PAY_AMT1                     0.195236 -0.000242  -0.038229 -0.004653   \n",
       "PAY_AMT2                     0.178408 -0.001391  -0.029372 -0.009513   \n",
       "PAY_AMT3                     0.210167 -0.008597  -0.039936 -0.004250   \n",
       "PAY_AMT4                     0.203242 -0.002229  -0.038786 -0.013970   \n",
       "PAY_AMT5                     0.217202 -0.001667  -0.042082 -0.003019   \n",
       "PAY_AMT6                     0.219595 -0.002766  -0.039017 -0.008383   \n",
       "default.payment.next.month  -0.153520 -0.039961   0.026969 -0.027575   \n",
       "\n",
       "                                 AGE     PAY_0     PAY_2     PAY_3     PAY_4  \\\n",
       "LIMIT_BAL                   0.144713 -0.271214 -0.296382 -0.286123 -0.267460   \n",
       "SEX                        -0.090874 -0.057643 -0.070771 -0.066096 -0.060173   \n",
       "EDUCATION                   0.175499  0.105193  0.120662  0.113370  0.108355   \n",
       "MARRIAGE                   -0.412001  0.018557  0.023620  0.032399  0.031831   \n",
       "AGE                         1.000000 -0.039447 -0.050148 -0.053048 -0.049722   \n",
       "PAY_0                      -0.039447  1.000000  0.672164  0.574245  0.538841   \n",
       "PAY_2                      -0.050148  0.672164  1.000000  0.766552  0.662067   \n",
       "PAY_3                      -0.053048  0.574245  0.766552  1.000000  0.777359   \n",
       "PAY_4                      -0.049722  0.538841  0.662067  0.777359  1.000000   \n",
       "PAY_5                      -0.053826  0.509426  0.622780  0.686775  0.819835   \n",
       "PAY_6                      -0.048773  0.474553  0.575501  0.632684  0.716449   \n",
       "BILL_AMT1                   0.056239  0.187068  0.234887  0.208473  0.202812   \n",
       "BILL_AMT2                   0.054283  0.189859  0.235257  0.237295  0.225816   \n",
       "BILL_AMT3                   0.053710  0.179785  0.224146  0.227494  0.244983   \n",
       "BILL_AMT4                   0.051353  0.179125  0.222237  0.227202  0.245917   \n",
       "BILL_AMT5                   0.049345  0.180635  0.221348  0.225145  0.242902   \n",
       "BILL_AMT6                   0.047613  0.176980  0.219403  0.222327  0.239154   \n",
       "PAY_AMT1                    0.026147 -0.079269 -0.080701  0.001295 -0.009362   \n",
       "PAY_AMT2                    0.021785 -0.070101 -0.058990 -0.066793 -0.001944   \n",
       "PAY_AMT3                    0.029247 -0.070561 -0.055901 -0.053311 -0.069235   \n",
       "PAY_AMT4                    0.021379 -0.064005 -0.046858 -0.046067 -0.043461   \n",
       "PAY_AMT5                    0.022850 -0.058190 -0.037093 -0.035863 -0.033590   \n",
       "PAY_AMT6                    0.019478 -0.058673 -0.036500 -0.035861 -0.026565   \n",
       "default.payment.next.month  0.013890  0.324794  0.263551  0.235253  0.216614   \n",
       "\n",
       "                               PAY_5  ...  BILL_AMT4  BILL_AMT5  BILL_AMT6  \\\n",
       "LIMIT_BAL                  -0.249411  ...   0.293988   0.295562   0.290389   \n",
       "SEX                        -0.055064  ...  -0.021880  -0.017005  -0.016733   \n",
       "EDUCATION                   0.096613  ...  -0.002208  -0.009384  -0.010872   \n",
       "MARRIAGE                    0.034377  ...  -0.027274  -0.029270  -0.025066   \n",
       "AGE                        -0.053826  ...   0.051353   0.049345   0.047613   \n",
       "PAY_0                       0.509426  ...   0.179125   0.180635   0.176980   \n",
       "PAY_2                       0.622780  ...   0.222237   0.221348   0.219403   \n",
       "PAY_3                       0.686775  ...   0.227202   0.225145   0.222327   \n",
       "PAY_4                       0.819835  ...   0.245917   0.242902   0.239154   \n",
       "PAY_5                       1.000000  ...   0.271915   0.269783   0.262509   \n",
       "PAY_6                       0.816900  ...   0.266356   0.290894   0.285091   \n",
       "BILL_AMT1                   0.206684  ...   0.860272   0.829779   0.802650   \n",
       "BILL_AMT2                   0.226913  ...   0.892482   0.859778   0.831594   \n",
       "BILL_AMT3                   0.243335  ...   0.923969   0.883910   0.853320   \n",
       "BILL_AMT4                   0.271915  ...   1.000000   0.940134   0.900941   \n",
       "BILL_AMT5                   0.269783  ...   0.940134   1.000000   0.946197   \n",
       "BILL_AMT6                   0.262509  ...   0.900941   0.946197   1.000000   \n",
       "PAY_AMT1                   -0.006089  ...   0.233012   0.217031   0.199965   \n",
       "PAY_AMT2                   -0.003191  ...   0.207564   0.181246   0.172663   \n",
       "PAY_AMT3                    0.009062  ...   0.300023   0.252305   0.233770   \n",
       "PAY_AMT4                   -0.058299  ...   0.130191   0.293118   0.250237   \n",
       "PAY_AMT5                   -0.033337  ...   0.160433   0.141574   0.307729   \n",
       "PAY_AMT6                   -0.023027  ...   0.177637   0.164184   0.115494   \n",
       "default.payment.next.month  0.204149  ...  -0.010156  -0.006760  -0.005372   \n",
       "\n",
       "                            PAY_AMT1  PAY_AMT2  PAY_AMT3  PAY_AMT4  PAY_AMT5  \\\n",
       "LIMIT_BAL                   0.195236  0.178408  0.210167  0.203242  0.217202   \n",
       "SEX                        -0.000242 -0.001391 -0.008597 -0.002229 -0.001667   \n",
       "EDUCATION                  -0.038229 -0.029372 -0.039936 -0.038786 -0.042082   \n",
       "MARRIAGE                   -0.004653 -0.009513 -0.004250 -0.013970 -0.003019   \n",
       "AGE                         0.026147  0.021785  0.029247  0.021379  0.022850   \n",
       "PAY_0                      -0.079269 -0.070101 -0.070561 -0.064005 -0.058190   \n",
       "PAY_2                      -0.080701 -0.058990 -0.055901 -0.046858 -0.037093   \n",
       "PAY_3                       0.001295 -0.066793 -0.053311 -0.046067 -0.035863   \n",
       "PAY_4                      -0.009362 -0.001944 -0.069235 -0.043461 -0.033590   \n",
       "PAY_5                      -0.006089 -0.003191  0.009062 -0.058299 -0.033337   \n",
       "PAY_6                      -0.001496 -0.005223  0.005834  0.019018 -0.046434   \n",
       "BILL_AMT1                   0.140277  0.099355  0.156887  0.158303  0.167026   \n",
       "BILL_AMT2                   0.280365  0.100851  0.150718  0.147398  0.157957   \n",
       "BILL_AMT3                   0.244335  0.316936  0.130011  0.143405  0.179712   \n",
       "BILL_AMT4                   0.233012  0.207564  0.300023  0.130191  0.160433   \n",
       "BILL_AMT5                   0.217031  0.181246  0.252305  0.293118  0.141574   \n",
       "BILL_AMT6                   0.199965  0.172663  0.233770  0.250237  0.307729   \n",
       "PAY_AMT1                    1.000000  0.285576  0.252191  0.199558  0.148459   \n",
       "PAY_AMT2                    0.285576  1.000000  0.244770  0.180107  0.180908   \n",
       "PAY_AMT3                    0.252191  0.244770  1.000000  0.216325  0.159214   \n",
       "PAY_AMT4                    0.199558  0.180107  0.216325  1.000000  0.151830   \n",
       "PAY_AMT5                    0.148459  0.180908  0.159214  0.151830  1.000000   \n",
       "PAY_AMT6                    0.185735  0.157634  0.162740  0.157834  0.154896   \n",
       "default.payment.next.month -0.072929 -0.058579 -0.056250 -0.056827 -0.055124   \n",
       "\n",
       "                            PAY_AMT6  default.payment.next.month  \n",
       "LIMIT_BAL                   0.219595                   -0.153520  \n",
       "SEX                        -0.002766                   -0.039961  \n",
       "EDUCATION                  -0.039017                    0.026969  \n",
       "MARRIAGE                   -0.008383                   -0.027575  \n",
       "AGE                         0.019478                    0.013890  \n",
       "PAY_0                      -0.058673                    0.324794  \n",
       "PAY_2                      -0.036500                    0.263551  \n",
       "PAY_3                      -0.035861                    0.235253  \n",
       "PAY_4                      -0.026565                    0.216614  \n",
       "PAY_5                      -0.023027                    0.204149  \n",
       "PAY_6                      -0.025299                    0.186866  \n",
       "BILL_AMT1                   0.179341                   -0.019644  \n",
       "BILL_AMT2                   0.174256                   -0.014193  \n",
       "BILL_AMT3                   0.182326                   -0.014076  \n",
       "BILL_AMT4                   0.177637                   -0.010156  \n",
       "BILL_AMT5                   0.164184                   -0.006760  \n",
       "BILL_AMT6                   0.115494                   -0.005372  \n",
       "PAY_AMT1                    0.185735                   -0.072929  \n",
       "PAY_AMT2                    0.157634                   -0.058579  \n",
       "PAY_AMT3                    0.162740                   -0.056250  \n",
       "PAY_AMT4                    0.157834                   -0.056827  \n",
       "PAY_AMT5                    0.154896                   -0.055124  \n",
       "PAY_AMT6                    1.000000                   -0.053183  \n",
       "default.payment.next.month -0.053183                    1.000000  \n",
       "\n",
       "[24 rows x 24 columns]"
      ]
     },
     "execution_count": 47,
     "metadata": {},
     "output_type": "execute_result"
    }
   ],
   "source": [
    "corr = data.corr()\n",
    "corr"
   ]
  },
  {
   "cell_type": "code",
   "execution_count": 48,
   "id": "d289c88e",
   "metadata": {},
   "outputs": [
    {
     "data": {
      "text/plain": [
       "Text(0.5, 1.0, 'Heatmap of Correlation Matrix')"
      ]
     },
     "execution_count": 48,
     "metadata": {},
     "output_type": "execute_result"
    },
    {
     "data": {
      "image/png": "[encoded data removed]",
      "text/plain": [
       "<Figure size 2500x1000 with 2 Axes>"
      ]
     },
     "metadata": {},
     "output_type": "display_data"
    }
   ],
   "source": [
    "# Heatmap\n",
    "\n",
    "plt.figure(figsize = (25,10))\n",
    "cmap = sns.diverging_palette(220, 10, as_cmap=True)\n",
    "sns.heatmap(corr, xticklabels=corr.columns.values, yticklabels=corr.columns.values, cmap=cmap, vmax=.3, center=0, square=True, linewidths=.5, cbar_kws={\"shrink\": .82})\n",
    "plt.title('Heatmap of Correlation Matrix')"
   ]
  },
  {
   "cell_type": "markdown",
   "id": "d27830e0",
   "metadata": {},
   "source": [
    "La variable monto del estado de cuenta (BILL_AMT) es la que tiene una mayor correlación con las variables estado de pago e importe del pago anterior. Mientras que la variable respuesta (default.payment.next.month) presenta la mayor correlación con las variables de estado de pago.\n",
    "Las variables demorgraficas o de caracteristicas de el cliente no tiene una relación importante con las variables asociados a pagos y montos de estado."
   ]
  },
  {
   "cell_type": "markdown",
   "id": "2736d1a1",
   "metadata": {},
   "source": [
    "## Procesamiento de datos"
   ]
  },
  {
   "cell_type": "markdown",
   "id": "a321a4a3",
   "metadata": {},
   "source": [
    "Separación de las variables dependientes e independiente."
   ]
  },
  {
   "cell_type": "code",
   "execution_count": 49,
   "id": "32903980",
   "metadata": {},
   "outputs": [],
   "source": [
    "x=data.drop('default.payment.next.month', 1)\n",
    "y=data['default.payment.next.month']\n"
   ]
  },
  {
   "cell_type": "code",
   "execution_count": 50,
   "id": "dee7e84b",
   "metadata": {},
   "outputs": [
    {
     "data": {
      "text/html": [
       "<div>\n",
       "<style scoped>\n",
       "    .dataframe tbody tr th:only-of-type {\n",
       "        vertical-align: middle;\n",
       "    }\n",
       "\n",
       "    .dataframe tbody tr th {\n",
       "        vertical-align: top;\n",
       "    }\n",
       "\n",
       "    .dataframe thead th {\n",
       "        text-align: right;\n",
       "    }\n",
       "</style>\n",
       "<table border=\"1\" class=\"dataframe\">\n",
       "  <thead>\n",
       "    <tr style=\"text-align: right;\">\n",
       "      <th></th>\n",
       "      <th>LIMIT_BAL</th>\n",
       "      <th>SEX</th>\n",
       "      <th>EDUCATION</th>\n",
       "      <th>MARRIAGE</th>\n",
       "      <th>AGE</th>\n",
       "      <th>PAY_0</th>\n",
       "      <th>PAY_2</th>\n",
       "      <th>PAY_3</th>\n",
       "      <th>PAY_4</th>\n",
       "      <th>PAY_5</th>\n",
       "      <th>...</th>\n",
       "      <th>BILL_AMT3</th>\n",
       "      <th>BILL_AMT4</th>\n",
       "      <th>BILL_AMT5</th>\n",
       "      <th>BILL_AMT6</th>\n",
       "      <th>PAY_AMT1</th>\n",
       "      <th>PAY_AMT2</th>\n",
       "      <th>PAY_AMT3</th>\n",
       "      <th>PAY_AMT4</th>\n",
       "      <th>PAY_AMT5</th>\n",
       "      <th>PAY_AMT6</th>\n",
       "    </tr>\n",
       "    <tr>\n",
       "      <th>ID</th>\n",
       "      <th></th>\n",
       "      <th></th>\n",
       "      <th></th>\n",
       "      <th></th>\n",
       "      <th></th>\n",
       "      <th></th>\n",
       "      <th></th>\n",
       "      <th></th>\n",
       "      <th></th>\n",
       "      <th></th>\n",
       "      <th></th>\n",
       "      <th></th>\n",
       "      <th></th>\n",
       "      <th></th>\n",
       "      <th></th>\n",
       "      <th></th>\n",
       "      <th></th>\n",
       "      <th></th>\n",
       "      <th></th>\n",
       "      <th></th>\n",
       "      <th></th>\n",
       "    </tr>\n",
       "  </thead>\n",
       "  <tbody>\n",
       "    <tr>\n",
       "      <th>1</th>\n",
       "      <td>20000.0</td>\n",
       "      <td>2</td>\n",
       "      <td>2</td>\n",
       "      <td>1</td>\n",
       "      <td>24</td>\n",
       "      <td>2</td>\n",
       "      <td>2</td>\n",
       "      <td>-1</td>\n",
       "      <td>-1</td>\n",
       "      <td>-2</td>\n",
       "      <td>...</td>\n",
       "      <td>689.0</td>\n",
       "      <td>0.0</td>\n",
       "      <td>0.0</td>\n",
       "      <td>0.0</td>\n",
       "      <td>0.0</td>\n",
       "      <td>689.0</td>\n",
       "      <td>0.0</td>\n",
       "      <td>0.0</td>\n",
       "      <td>0.0</td>\n",
       "      <td>0.0</td>\n",
       "    </tr>\n",
       "    <tr>\n",
       "      <th>2</th>\n",
       "      <td>120000.0</td>\n",
       "      <td>2</td>\n",
       "      <td>2</td>\n",
       "      <td>2</td>\n",
       "      <td>26</td>\n",
       "      <td>-1</td>\n",
       "      <td>2</td>\n",
       "      <td>0</td>\n",
       "      <td>0</td>\n",
       "      <td>0</td>\n",
       "      <td>...</td>\n",
       "      <td>2682.0</td>\n",
       "      <td>3272.0</td>\n",
       "      <td>3455.0</td>\n",
       "      <td>3261.0</td>\n",
       "      <td>0.0</td>\n",
       "      <td>1000.0</td>\n",
       "      <td>1000.0</td>\n",
       "      <td>1000.0</td>\n",
       "      <td>0.0</td>\n",
       "      <td>2000.0</td>\n",
       "    </tr>\n",
       "    <tr>\n",
       "      <th>3</th>\n",
       "      <td>90000.0</td>\n",
       "      <td>2</td>\n",
       "      <td>2</td>\n",
       "      <td>2</td>\n",
       "      <td>34</td>\n",
       "      <td>0</td>\n",
       "      <td>0</td>\n",
       "      <td>0</td>\n",
       "      <td>0</td>\n",
       "      <td>0</td>\n",
       "      <td>...</td>\n",
       "      <td>13559.0</td>\n",
       "      <td>14331.0</td>\n",
       "      <td>14948.0</td>\n",
       "      <td>15549.0</td>\n",
       "      <td>1518.0</td>\n",
       "      <td>1500.0</td>\n",
       "      <td>1000.0</td>\n",
       "      <td>1000.0</td>\n",
       "      <td>1000.0</td>\n",
       "      <td>5000.0</td>\n",
       "    </tr>\n",
       "    <tr>\n",
       "      <th>4</th>\n",
       "      <td>50000.0</td>\n",
       "      <td>2</td>\n",
       "      <td>2</td>\n",
       "      <td>1</td>\n",
       "      <td>37</td>\n",
       "      <td>0</td>\n",
       "      <td>0</td>\n",
       "      <td>0</td>\n",
       "      <td>0</td>\n",
       "      <td>0</td>\n",
       "      <td>...</td>\n",
       "      <td>49291.0</td>\n",
       "      <td>28314.0</td>\n",
       "      <td>28959.0</td>\n",
       "      <td>29547.0</td>\n",
       "      <td>2000.0</td>\n",
       "      <td>2019.0</td>\n",
       "      <td>1200.0</td>\n",
       "      <td>1100.0</td>\n",
       "      <td>1069.0</td>\n",
       "      <td>1000.0</td>\n",
       "    </tr>\n",
       "    <tr>\n",
       "      <th>5</th>\n",
       "      <td>50000.0</td>\n",
       "      <td>1</td>\n",
       "      <td>2</td>\n",
       "      <td>1</td>\n",
       "      <td>57</td>\n",
       "      <td>-1</td>\n",
       "      <td>0</td>\n",
       "      <td>-1</td>\n",
       "      <td>0</td>\n",
       "      <td>0</td>\n",
       "      <td>...</td>\n",
       "      <td>35835.0</td>\n",
       "      <td>20940.0</td>\n",
       "      <td>19146.0</td>\n",
       "      <td>19131.0</td>\n",
       "      <td>2000.0</td>\n",
       "      <td>36681.0</td>\n",
       "      <td>10000.0</td>\n",
       "      <td>9000.0</td>\n",
       "      <td>689.0</td>\n",
       "      <td>679.0</td>\n",
       "    </tr>\n",
       "    <tr>\n",
       "      <th>...</th>\n",
       "      <td>...</td>\n",
       "      <td>...</td>\n",
       "      <td>...</td>\n",
       "      <td>...</td>\n",
       "      <td>...</td>\n",
       "      <td>...</td>\n",
       "      <td>...</td>\n",
       "      <td>...</td>\n",
       "      <td>...</td>\n",
       "      <td>...</td>\n",
       "      <td>...</td>\n",
       "      <td>...</td>\n",
       "      <td>...</td>\n",
       "      <td>...</td>\n",
       "      <td>...</td>\n",
       "      <td>...</td>\n",
       "      <td>...</td>\n",
       "      <td>...</td>\n",
       "      <td>...</td>\n",
       "      <td>...</td>\n",
       "      <td>...</td>\n",
       "    </tr>\n",
       "    <tr>\n",
       "      <th>29996</th>\n",
       "      <td>220000.0</td>\n",
       "      <td>1</td>\n",
       "      <td>3</td>\n",
       "      <td>1</td>\n",
       "      <td>39</td>\n",
       "      <td>0</td>\n",
       "      <td>0</td>\n",
       "      <td>0</td>\n",
       "      <td>0</td>\n",
       "      <td>0</td>\n",
       "      <td>...</td>\n",
       "      <td>208365.0</td>\n",
       "      <td>88004.0</td>\n",
       "      <td>31237.0</td>\n",
       "      <td>15980.0</td>\n",
       "      <td>8500.0</td>\n",
       "      <td>20000.0</td>\n",
       "      <td>5003.0</td>\n",
       "      <td>3047.0</td>\n",
       "      <td>5000.0</td>\n",
       "      <td>1000.0</td>\n",
       "    </tr>\n",
       "    <tr>\n",
       "      <th>29997</th>\n",
       "      <td>150000.0</td>\n",
       "      <td>1</td>\n",
       "      <td>3</td>\n",
       "      <td>2</td>\n",
       "      <td>43</td>\n",
       "      <td>-1</td>\n",
       "      <td>-1</td>\n",
       "      <td>-1</td>\n",
       "      <td>-1</td>\n",
       "      <td>0</td>\n",
       "      <td>...</td>\n",
       "      <td>3502.0</td>\n",
       "      <td>8979.0</td>\n",
       "      <td>5190.0</td>\n",
       "      <td>0.0</td>\n",
       "      <td>1837.0</td>\n",
       "      <td>3526.0</td>\n",
       "      <td>8998.0</td>\n",
       "      <td>129.0</td>\n",
       "      <td>0.0</td>\n",
       "      <td>0.0</td>\n",
       "    </tr>\n",
       "    <tr>\n",
       "      <th>29998</th>\n",
       "      <td>30000.0</td>\n",
       "      <td>1</td>\n",
       "      <td>2</td>\n",
       "      <td>2</td>\n",
       "      <td>37</td>\n",
       "      <td>4</td>\n",
       "      <td>3</td>\n",
       "      <td>2</td>\n",
       "      <td>-1</td>\n",
       "      <td>0</td>\n",
       "      <td>...</td>\n",
       "      <td>2758.0</td>\n",
       "      <td>20878.0</td>\n",
       "      <td>20582.0</td>\n",
       "      <td>19357.0</td>\n",
       "      <td>0.0</td>\n",
       "      <td>0.0</td>\n",
       "      <td>22000.0</td>\n",
       "      <td>4200.0</td>\n",
       "      <td>2000.0</td>\n",
       "      <td>3100.0</td>\n",
       "    </tr>\n",
       "    <tr>\n",
       "      <th>29999</th>\n",
       "      <td>80000.0</td>\n",
       "      <td>1</td>\n",
       "      <td>3</td>\n",
       "      <td>1</td>\n",
       "      <td>41</td>\n",
       "      <td>1</td>\n",
       "      <td>-1</td>\n",
       "      <td>0</td>\n",
       "      <td>0</td>\n",
       "      <td>0</td>\n",
       "      <td>...</td>\n",
       "      <td>76304.0</td>\n",
       "      <td>52774.0</td>\n",
       "      <td>11855.0</td>\n",
       "      <td>48944.0</td>\n",
       "      <td>85900.0</td>\n",
       "      <td>3409.0</td>\n",
       "      <td>1178.0</td>\n",
       "      <td>1926.0</td>\n",
       "      <td>52964.0</td>\n",
       "      <td>1804.0</td>\n",
       "    </tr>\n",
       "    <tr>\n",
       "      <th>30000</th>\n",
       "      <td>50000.0</td>\n",
       "      <td>1</td>\n",
       "      <td>2</td>\n",
       "      <td>1</td>\n",
       "      <td>46</td>\n",
       "      <td>0</td>\n",
       "      <td>0</td>\n",
       "      <td>0</td>\n",
       "      <td>0</td>\n",
       "      <td>0</td>\n",
       "      <td>...</td>\n",
       "      <td>49764.0</td>\n",
       "      <td>36535.0</td>\n",
       "      <td>32428.0</td>\n",
       "      <td>15313.0</td>\n",
       "      <td>2078.0</td>\n",
       "      <td>1800.0</td>\n",
       "      <td>1430.0</td>\n",
       "      <td>1000.0</td>\n",
       "      <td>1000.0</td>\n",
       "      <td>1000.0</td>\n",
       "    </tr>\n",
       "  </tbody>\n",
       "</table>\n",
       "<p>30000 rows × 23 columns</p>\n",
       "</div>"
      ],
      "text/plain": [
       "       LIMIT_BAL  SEX  EDUCATION  MARRIAGE  AGE  PAY_0  PAY_2  PAY_3  PAY_4  \\\n",
       "ID                                                                            \n",
       "1        20000.0    2          2         1   24      2      2     -1     -1   \n",
       "2       120000.0    2          2         2   26     -1      2      0      0   \n",
       "3        90000.0    2          2         2   34      0      0      0      0   \n",
       "4        50000.0    2          2         1   37      0      0      0      0   \n",
       "5        50000.0    1          2         1   57     -1      0     -1      0   \n",
       "...          ...  ...        ...       ...  ...    ...    ...    ...    ...   \n",
       "29996   220000.0    1          3         1   39      0      0      0      0   \n",
       "29997   150000.0    1          3         2   43     -1     -1     -1     -1   \n",
       "29998    30000.0    1          2         2   37      4      3      2     -1   \n",
       "29999    80000.0    1          3         1   41      1     -1      0      0   \n",
       "30000    50000.0    1          2         1   46      0      0      0      0   \n",
       "\n",
       "       PAY_5  ...  BILL_AMT3  BILL_AMT4  BILL_AMT5  BILL_AMT6  PAY_AMT1  \\\n",
       "ID            ...                                                         \n",
       "1         -2  ...      689.0        0.0        0.0        0.0       0.0   \n",
       "2          0  ...     2682.0     3272.0     3455.0     3261.0       0.0   \n",
       "3          0  ...    13559.0    14331.0    14948.0    15549.0    1518.0   \n",
       "4          0  ...    49291.0    28314.0    28959.0    29547.0    2000.0   \n",
       "5          0  ...    35835.0    20940.0    19146.0    19131.0    2000.0   \n",
       "...      ...  ...        ...        ...        ...        ...       ...   \n",
       "29996      0  ...   208365.0    88004.0    31237.0    15980.0    8500.0   \n",
       "29997      0  ...     3502.0     8979.0     5190.0        0.0    1837.0   \n",
       "29998      0  ...     2758.0    20878.0    20582.0    19357.0       0.0   \n",
       "29999      0  ...    76304.0    52774.0    11855.0    48944.0   85900.0   \n",
       "30000      0  ...    49764.0    36535.0    32428.0    15313.0    2078.0   \n",
       "\n",
       "       PAY_AMT2  PAY_AMT3  PAY_AMT4  PAY_AMT5  PAY_AMT6  \n",
       "ID                                                       \n",
       "1         689.0       0.0       0.0       0.0       0.0  \n",
       "2        1000.0    1000.0    1000.0       0.0    2000.0  \n",
       "3        1500.0    1000.0    1000.0    1000.0    5000.0  \n",
       "4        2019.0    1200.0    1100.0    1069.0    1000.0  \n",
       "5       36681.0   10000.0    9000.0     689.0     679.0  \n",
       "...         ...       ...       ...       ...       ...  \n",
       "29996   20000.0    5003.0    3047.0    5000.0    1000.0  \n",
       "29997    3526.0    8998.0     129.0       0.0       0.0  \n",
       "29998       0.0   22000.0    4200.0    2000.0    3100.0  \n",
       "29999    3409.0    1178.0    1926.0   52964.0    1804.0  \n",
       "30000    1800.0    1430.0    1000.0    1000.0    1000.0  \n",
       "\n",
       "[30000 rows x 23 columns]"
      ]
     },
     "execution_count": 50,
     "metadata": {},
     "output_type": "execute_result"
    }
   ],
   "source": [
    "x"
   ]
  },
  {
   "cell_type": "code",
   "execution_count": 51,
   "id": "a6f41dbc",
   "metadata": {},
   "outputs": [
    {
     "data": {
      "text/plain": [
       "ID\n",
       "1        1\n",
       "2        1\n",
       "3        0\n",
       "4        0\n",
       "5        0\n",
       "        ..\n",
       "29996    0\n",
       "29997    0\n",
       "29998    1\n",
       "29999    1\n",
       "30000    1\n",
       "Name: default.payment.next.month, Length: 30000, dtype: int64"
      ]
     },
     "execution_count": 51,
     "metadata": {},
     "output_type": "execute_result"
    }
   ],
   "source": [
    "y"
   ]
  },
  {
   "cell_type": "markdown",
   "id": "35039c25",
   "metadata": {},
   "source": [
    "Realice la prueba eliminando las variables con menor correlación (como se muestra en le heatmap), para probar los resultados obtenidos sin ellas 'SEX','EDUCATION','MARRIAGE','AGE'. El resultado de los modelos fue similar por lo que preferi dejar el data set completo para laa pruebas finales.\n",
    "x=x.drop(['SEX','EDUCATION','MARRIAGE','AGE'], axis=1)\n",
    "x"
   ]
  },
  {
   "cell_type": "markdown",
   "id": "0dbd481e",
   "metadata": {},
   "source": [
    "### Normalización"
   ]
  },
  {
   "cell_type": "code",
   "execution_count": 52,
   "id": "31894e15",
   "metadata": {},
   "outputs": [],
   "source": [
    "numeric_columns = x.select_dtypes(include=['float64', 'int64']).columns\n",
    "\n",
    "columns_to_exclude = ['SEX','EDUCATION','MARRIAGE','PAY_0','PAY_2','PAY_3','PAY_4','PAY_5','PAY_6']\n",
    "\n",
    "numeric_columns = [col for col in numeric_columns if col not in columns_to_exclude]"
   ]
  },
  {
   "cell_type": "markdown",
   "id": "09f4a86c",
   "metadata": {},
   "source": [
    "Se excluyen de la normalización las variables numericas categoricas."
   ]
  },
  {
   "cell_type": "code",
   "execution_count": 53,
   "id": "334ee95f",
   "metadata": {},
   "outputs": [
    {
     "data": {
      "text/html": [
       "<div>\n",
       "<style scoped>\n",
       "    .dataframe tbody tr th:only-of-type {\n",
       "        vertical-align: middle;\n",
       "    }\n",
       "\n",
       "    .dataframe tbody tr th {\n",
       "        vertical-align: top;\n",
       "    }\n",
       "\n",
       "    .dataframe thead th {\n",
       "        text-align: right;\n",
       "    }\n",
       "</style>\n",
       "<table border=\"1\" class=\"dataframe\">\n",
       "  <thead>\n",
       "    <tr style=\"text-align: right;\">\n",
       "      <th></th>\n",
       "      <th>LIMIT_BAL</th>\n",
       "      <th>SEX</th>\n",
       "      <th>EDUCATION</th>\n",
       "      <th>MARRIAGE</th>\n",
       "      <th>AGE</th>\n",
       "      <th>PAY_0</th>\n",
       "      <th>PAY_2</th>\n",
       "      <th>PAY_3</th>\n",
       "      <th>PAY_4</th>\n",
       "      <th>PAY_5</th>\n",
       "      <th>...</th>\n",
       "      <th>BILL_AMT3</th>\n",
       "      <th>BILL_AMT4</th>\n",
       "      <th>BILL_AMT5</th>\n",
       "      <th>BILL_AMT6</th>\n",
       "      <th>PAY_AMT1</th>\n",
       "      <th>PAY_AMT2</th>\n",
       "      <th>PAY_AMT3</th>\n",
       "      <th>PAY_AMT4</th>\n",
       "      <th>PAY_AMT5</th>\n",
       "      <th>PAY_AMT6</th>\n",
       "    </tr>\n",
       "    <tr>\n",
       "      <th>ID</th>\n",
       "      <th></th>\n",
       "      <th></th>\n",
       "      <th></th>\n",
       "      <th></th>\n",
       "      <th></th>\n",
       "      <th></th>\n",
       "      <th></th>\n",
       "      <th></th>\n",
       "      <th></th>\n",
       "      <th></th>\n",
       "      <th></th>\n",
       "      <th></th>\n",
       "      <th></th>\n",
       "      <th></th>\n",
       "      <th></th>\n",
       "      <th></th>\n",
       "      <th></th>\n",
       "      <th></th>\n",
       "      <th></th>\n",
       "      <th></th>\n",
       "      <th></th>\n",
       "    </tr>\n",
       "  </thead>\n",
       "  <tbody>\n",
       "    <tr>\n",
       "      <th>1</th>\n",
       "      <td>-1.136720</td>\n",
       "      <td>2</td>\n",
       "      <td>2</td>\n",
       "      <td>1</td>\n",
       "      <td>-1.246020</td>\n",
       "      <td>2</td>\n",
       "      <td>2</td>\n",
       "      <td>-1</td>\n",
       "      <td>-1</td>\n",
       "      <td>-2</td>\n",
       "      <td>...</td>\n",
       "      <td>-0.667993</td>\n",
       "      <td>-0.672497</td>\n",
       "      <td>-0.663059</td>\n",
       "      <td>-0.652724</td>\n",
       "      <td>-0.341942</td>\n",
       "      <td>-0.227086</td>\n",
       "      <td>-0.296801</td>\n",
       "      <td>-0.308063</td>\n",
       "      <td>-0.314136</td>\n",
       "      <td>-0.293382</td>\n",
       "    </tr>\n",
       "    <tr>\n",
       "      <th>2</th>\n",
       "      <td>-0.365981</td>\n",
       "      <td>2</td>\n",
       "      <td>2</td>\n",
       "      <td>2</td>\n",
       "      <td>-1.029047</td>\n",
       "      <td>-1</td>\n",
       "      <td>2</td>\n",
       "      <td>0</td>\n",
       "      <td>0</td>\n",
       "      <td>0</td>\n",
       "      <td>...</td>\n",
       "      <td>-0.639254</td>\n",
       "      <td>-0.621636</td>\n",
       "      <td>-0.606229</td>\n",
       "      <td>-0.597966</td>\n",
       "      <td>-0.341942</td>\n",
       "      <td>-0.213588</td>\n",
       "      <td>-0.240005</td>\n",
       "      <td>-0.244230</td>\n",
       "      <td>-0.314136</td>\n",
       "      <td>-0.180878</td>\n",
       "    </tr>\n",
       "    <tr>\n",
       "      <th>3</th>\n",
       "      <td>-0.597202</td>\n",
       "      <td>2</td>\n",
       "      <td>2</td>\n",
       "      <td>2</td>\n",
       "      <td>-0.161156</td>\n",
       "      <td>0</td>\n",
       "      <td>0</td>\n",
       "      <td>0</td>\n",
       "      <td>0</td>\n",
       "      <td>0</td>\n",
       "      <td>...</td>\n",
       "      <td>-0.482408</td>\n",
       "      <td>-0.449730</td>\n",
       "      <td>-0.417188</td>\n",
       "      <td>-0.391630</td>\n",
       "      <td>-0.250292</td>\n",
       "      <td>-0.191887</td>\n",
       "      <td>-0.240005</td>\n",
       "      <td>-0.244230</td>\n",
       "      <td>-0.248683</td>\n",
       "      <td>-0.012122</td>\n",
       "    </tr>\n",
       "    <tr>\n",
       "      <th>4</th>\n",
       "      <td>-0.905498</td>\n",
       "      <td>2</td>\n",
       "      <td>2</td>\n",
       "      <td>1</td>\n",
       "      <td>0.164303</td>\n",
       "      <td>0</td>\n",
       "      <td>0</td>\n",
       "      <td>0</td>\n",
       "      <td>0</td>\n",
       "      <td>0</td>\n",
       "      <td>...</td>\n",
       "      <td>0.032846</td>\n",
       "      <td>-0.232373</td>\n",
       "      <td>-0.186729</td>\n",
       "      <td>-0.156579</td>\n",
       "      <td>-0.221191</td>\n",
       "      <td>-0.169361</td>\n",
       "      <td>-0.228645</td>\n",
       "      <td>-0.237846</td>\n",
       "      <td>-0.244166</td>\n",
       "      <td>-0.237130</td>\n",
       "    </tr>\n",
       "    <tr>\n",
       "      <th>5</th>\n",
       "      <td>-0.905498</td>\n",
       "      <td>1</td>\n",
       "      <td>2</td>\n",
       "      <td>1</td>\n",
       "      <td>2.334029</td>\n",
       "      <td>-1</td>\n",
       "      <td>0</td>\n",
       "      <td>-1</td>\n",
       "      <td>0</td>\n",
       "      <td>0</td>\n",
       "      <td>...</td>\n",
       "      <td>-0.161189</td>\n",
       "      <td>-0.346997</td>\n",
       "      <td>-0.348137</td>\n",
       "      <td>-0.331482</td>\n",
       "      <td>-0.221191</td>\n",
       "      <td>1.335034</td>\n",
       "      <td>0.271165</td>\n",
       "      <td>0.266434</td>\n",
       "      <td>-0.269039</td>\n",
       "      <td>-0.255187</td>\n",
       "    </tr>\n",
       "    <tr>\n",
       "      <th>...</th>\n",
       "      <td>...</td>\n",
       "      <td>...</td>\n",
       "      <td>...</td>\n",
       "      <td>...</td>\n",
       "      <td>...</td>\n",
       "      <td>...</td>\n",
       "      <td>...</td>\n",
       "      <td>...</td>\n",
       "      <td>...</td>\n",
       "      <td>...</td>\n",
       "      <td>...</td>\n",
       "      <td>...</td>\n",
       "      <td>...</td>\n",
       "      <td>...</td>\n",
       "      <td>...</td>\n",
       "      <td>...</td>\n",
       "      <td>...</td>\n",
       "      <td>...</td>\n",
       "      <td>...</td>\n",
       "      <td>...</td>\n",
       "      <td>...</td>\n",
       "    </tr>\n",
       "    <tr>\n",
       "      <th>29996</th>\n",
       "      <td>0.404759</td>\n",
       "      <td>1</td>\n",
       "      <td>3</td>\n",
       "      <td>1</td>\n",
       "      <td>0.381275</td>\n",
       "      <td>0</td>\n",
       "      <td>0</td>\n",
       "      <td>0</td>\n",
       "      <td>0</td>\n",
       "      <td>0</td>\n",
       "      <td>...</td>\n",
       "      <td>2.326690</td>\n",
       "      <td>0.695474</td>\n",
       "      <td>-0.149259</td>\n",
       "      <td>-0.384392</td>\n",
       "      <td>0.171250</td>\n",
       "      <td>0.611048</td>\n",
       "      <td>-0.012648</td>\n",
       "      <td>-0.113564</td>\n",
       "      <td>0.013131</td>\n",
       "      <td>-0.237130</td>\n",
       "    </tr>\n",
       "    <tr>\n",
       "      <th>29997</th>\n",
       "      <td>-0.134759</td>\n",
       "      <td>1</td>\n",
       "      <td>3</td>\n",
       "      <td>2</td>\n",
       "      <td>0.815221</td>\n",
       "      <td>-1</td>\n",
       "      <td>-1</td>\n",
       "      <td>-1</td>\n",
       "      <td>-1</td>\n",
       "      <td>0</td>\n",
       "      <td>...</td>\n",
       "      <td>-0.627430</td>\n",
       "      <td>-0.532924</td>\n",
       "      <td>-0.577691</td>\n",
       "      <td>-0.652724</td>\n",
       "      <td>-0.231032</td>\n",
       "      <td>-0.103955</td>\n",
       "      <td>0.214255</td>\n",
       "      <td>-0.299828</td>\n",
       "      <td>-0.314136</td>\n",
       "      <td>-0.293382</td>\n",
       "    </tr>\n",
       "    <tr>\n",
       "      <th>29998</th>\n",
       "      <td>-1.059646</td>\n",
       "      <td>1</td>\n",
       "      <td>2</td>\n",
       "      <td>2</td>\n",
       "      <td>0.164303</td>\n",
       "      <td>4</td>\n",
       "      <td>3</td>\n",
       "      <td>2</td>\n",
       "      <td>-1</td>\n",
       "      <td>0</td>\n",
       "      <td>...</td>\n",
       "      <td>-0.638158</td>\n",
       "      <td>-0.347961</td>\n",
       "      <td>-0.324517</td>\n",
       "      <td>-0.327687</td>\n",
       "      <td>-0.341942</td>\n",
       "      <td>-0.256990</td>\n",
       "      <td>0.952725</td>\n",
       "      <td>-0.039964</td>\n",
       "      <td>-0.183229</td>\n",
       "      <td>-0.119001</td>\n",
       "    </tr>\n",
       "    <tr>\n",
       "      <th>29999</th>\n",
       "      <td>-0.674276</td>\n",
       "      <td>1</td>\n",
       "      <td>3</td>\n",
       "      <td>1</td>\n",
       "      <td>0.598248</td>\n",
       "      <td>1</td>\n",
       "      <td>-1</td>\n",
       "      <td>0</td>\n",
       "      <td>0</td>\n",
       "      <td>0</td>\n",
       "      <td>...</td>\n",
       "      <td>0.422373</td>\n",
       "      <td>0.147844</td>\n",
       "      <td>-0.468063</td>\n",
       "      <td>0.169130</td>\n",
       "      <td>4.844316</td>\n",
       "      <td>-0.109033</td>\n",
       "      <td>-0.229895</td>\n",
       "      <td>-0.185120</td>\n",
       "      <td>3.152536</td>\n",
       "      <td>-0.191904</td>\n",
       "    </tr>\n",
       "    <tr>\n",
       "      <th>30000</th>\n",
       "      <td>-0.905498</td>\n",
       "      <td>1</td>\n",
       "      <td>2</td>\n",
       "      <td>1</td>\n",
       "      <td>1.140680</td>\n",
       "      <td>0</td>\n",
       "      <td>0</td>\n",
       "      <td>0</td>\n",
       "      <td>0</td>\n",
       "      <td>0</td>\n",
       "      <td>...</td>\n",
       "      <td>0.039667</td>\n",
       "      <td>-0.104582</td>\n",
       "      <td>-0.129669</td>\n",
       "      <td>-0.395592</td>\n",
       "      <td>-0.216481</td>\n",
       "      <td>-0.178866</td>\n",
       "      <td>-0.215582</td>\n",
       "      <td>-0.244230</td>\n",
       "      <td>-0.248683</td>\n",
       "      <td>-0.237130</td>\n",
       "    </tr>\n",
       "  </tbody>\n",
       "</table>\n",
       "<p>30000 rows × 23 columns</p>\n",
       "</div>"
      ],
      "text/plain": [
       "       LIMIT_BAL  SEX  EDUCATION  MARRIAGE       AGE  PAY_0  PAY_2  PAY_3  \\\n",
       "ID                                                                          \n",
       "1      -1.136720    2          2         1 -1.246020      2      2     -1   \n",
       "2      -0.365981    2          2         2 -1.029047     -1      2      0   \n",
       "3      -0.597202    2          2         2 -0.161156      0      0      0   \n",
       "4      -0.905498    2          2         1  0.164303      0      0      0   \n",
       "5      -0.905498    1          2         1  2.334029     -1      0     -1   \n",
       "...          ...  ...        ...       ...       ...    ...    ...    ...   \n",
       "29996   0.404759    1          3         1  0.381275      0      0      0   \n",
       "29997  -0.134759    1          3         2  0.815221     -1     -1     -1   \n",
       "29998  -1.059646    1          2         2  0.164303      4      3      2   \n",
       "29999  -0.674276    1          3         1  0.598248      1     -1      0   \n",
       "30000  -0.905498    1          2         1  1.140680      0      0      0   \n",
       "\n",
       "       PAY_4  PAY_5  ...  BILL_AMT3  BILL_AMT4  BILL_AMT5  BILL_AMT6  \\\n",
       "ID                   ...                                               \n",
       "1         -1     -2  ...  -0.667993  -0.672497  -0.663059  -0.652724   \n",
       "2          0      0  ...  -0.639254  -0.621636  -0.606229  -0.597966   \n",
       "3          0      0  ...  -0.482408  -0.449730  -0.417188  -0.391630   \n",
       "4          0      0  ...   0.032846  -0.232373  -0.186729  -0.156579   \n",
       "5          0      0  ...  -0.161189  -0.346997  -0.348137  -0.331482   \n",
       "...      ...    ...  ...        ...        ...        ...        ...   \n",
       "29996      0      0  ...   2.326690   0.695474  -0.149259  -0.384392   \n",
       "29997     -1      0  ...  -0.627430  -0.532924  -0.577691  -0.652724   \n",
       "29998     -1      0  ...  -0.638158  -0.347961  -0.324517  -0.327687   \n",
       "29999      0      0  ...   0.422373   0.147844  -0.468063   0.169130   \n",
       "30000      0      0  ...   0.039667  -0.104582  -0.129669  -0.395592   \n",
       "\n",
       "       PAY_AMT1  PAY_AMT2  PAY_AMT3  PAY_AMT4  PAY_AMT5  PAY_AMT6  \n",
       "ID                                                                 \n",
       "1     -0.341942 -0.227086 -0.296801 -0.308063 -0.314136 -0.293382  \n",
       "2     -0.341942 -0.213588 -0.240005 -0.244230 -0.314136 -0.180878  \n",
       "3     -0.250292 -0.191887 -0.240005 -0.244230 -0.248683 -0.012122  \n",
       "4     -0.221191 -0.169361 -0.228645 -0.237846 -0.244166 -0.237130  \n",
       "5     -0.221191  1.335034  0.271165  0.266434 -0.269039 -0.255187  \n",
       "...         ...       ...       ...       ...       ...       ...  \n",
       "29996  0.171250  0.611048 -0.012648 -0.113564  0.013131 -0.237130  \n",
       "29997 -0.231032 -0.103955  0.214255 -0.299828 -0.314136 -0.293382  \n",
       "29998 -0.341942 -0.256990  0.952725 -0.039964 -0.183229 -0.119001  \n",
       "29999  4.844316 -0.109033 -0.229895 -0.185120  3.152536 -0.191904  \n",
       "30000 -0.216481 -0.178866 -0.215582 -0.244230 -0.248683 -0.237130  \n",
       "\n",
       "[30000 rows x 23 columns]"
      ]
     },
     "execution_count": 53,
     "metadata": {},
     "output_type": "execute_result"
    }
   ],
   "source": [
    "ss = StandardScaler()\n",
    "\n",
    "x[numeric_columns] = ss.fit_transform(x[numeric_columns])\n",
    "x"
   ]
  },
  {
   "cell_type": "markdown",
   "id": "a72a4e33",
   "metadata": {},
   "source": [
    "### Separación data de entrenamiento y testeo"
   ]
  },
  {
   "cell_type": "code",
   "execution_count": 54,
   "id": "28415ecc",
   "metadata": {},
   "outputs": [
    {
     "name": "stdout",
     "output_type": "stream",
     "text": [
      "Ejemplos usados para entrenar:  22500\n",
      "Ejemplos usados para test:  7500\n"
     ]
    }
   ],
   "source": [
    "x_train, x_test,y_train, y_test = train_test_split(x,y, test_size = 0.25,random_state=0)\n",
    "\n",
    "print(\"Ejemplos usados para entrenar: \", len(x_train))\n",
    "print(\"Ejemplos usados para test: \", len(x_test))"
   ]
  },
  {
   "cell_type": "markdown",
   "id": "979aa433",
   "metadata": {},
   "source": [
    "## Entrenamientos de modelos de aprendizaje automatico"
   ]
  },
  {
   "cell_type": "markdown",
   "id": "9a59443e",
   "metadata": {},
   "source": [
    "### Modelo Regresión logistica"
   ]
  },
  {
   "cell_type": "code",
   "execution_count": 55,
   "id": "ee3cd200",
   "metadata": {},
   "outputs": [
    {
     "data": {
      "text/plain": [
       "LogisticRegression(random_state=42)"
      ]
     },
     "execution_count": 55,
     "metadata": {},
     "output_type": "execute_result"
    }
   ],
   "source": [
    "# Creación del modelo\n",
    "# ==============================================================================\n",
    "# Para no incluir ningún tipo de regularización en el modelo se indica\n",
    "# penalty='none'\n",
    "modelo = LogisticRegression(solver='lbfgs',\n",
    "                            max_iter=  100,\n",
    "                            penalty='l2',\n",
    "                            class_weight=None,\n",
    "                            random_state=42)\n",
    "modelo.fit(x_train, y_train)"
   ]
  },
  {
   "cell_type": "code",
   "execution_count": 56,
   "id": "18974cb8",
   "metadata": {},
   "outputs": [
    {
     "name": "stdout",
     "output_type": "stream",
     "text": [
      "Intercept: [-0.66815685]\n",
      "Coeficiente: [('LIMIT_BAL', -0.07735171325273675), ('SEX', -0.1386613608637246), ('EDUCATION', -0.11586097072087088), ('MARRIAGE', -0.19433344371395866), ('AGE', 0.06331808975483934), ('PAY_0', 0.5388485914586078), ('PAY_2', 0.09119068207623375), ('PAY_3', 0.07288447986808255), ('PAY_4', 0.01060244968756986), ('PAY_5', 0.03312115148243186), ('PAY_6', 0.03964601337997031), ('BILL_AMT1', -0.5300383196666718), ('BILL_AMT2', 0.1817960573068922), ('BILL_AMT3', 0.1499922522482167), ('BILL_AMT4', 0.07072465212950003), ('BILL_AMT5', 0.021173606660065142), ('BILL_AMT6', 0.013157409096517114), ('PAY_AMT1', -0.28543014935506217), ('PAY_AMT2', -0.22237182602838507), ('PAY_AMT3', -0.0969262520299359), ('PAY_AMT4', -0.06068656385968818), ('PAY_AMT5', -0.04173205599207259), ('PAY_AMT6', -0.04488759213378673)]\n",
      "Accuracy de entrenamiento: 0.8100333333333334\n"
     ]
    }
   ],
   "source": [
    "# Información del modelo\n",
    "# ==============================================================================\n",
    "print(\"Intercept:\", modelo.intercept_) # b0\n",
    "print(\"Coeficiente:\", list(zip(x.columns, modelo.coef_.flatten(), ))) # b1\n",
    "print(\"Accuracy de entrenamiento:\", modelo.score(x, y)) # Cuanto datos clasifico correctamente"
   ]
  },
  {
   "cell_type": "code",
   "execution_count": 57,
   "id": "a2c1e604",
   "metadata": {},
   "outputs": [
    {
     "name": "stdout",
     "output_type": "stream",
     "text": [
      "El accuracy o precisión global de test es: 81.00333333333334 %\n"
     ]
    }
   ],
   "source": [
    "accuracy = modelo.score(x, y)\n",
    "print(f\"El accuracy o precisión global de test es: {100 * accuracy} %\")"
   ]
  },
  {
   "cell_type": "markdown",
   "id": "213069c3",
   "metadata": {},
   "source": [
    "La precisión del modelo es de un 81%, es decir que predice de forma correcta el 81% de los datos."
   ]
  },
  {
   "cell_type": "code",
   "execution_count": 58,
   "id": "e448f134",
   "metadata": {},
   "outputs": [
    {
     "name": "stdout",
     "output_type": "stream",
     "text": [
      "Matriz de confusión\n",
      "-------------------\n",
      "[[5742  126]\n",
      " [1261  371]]\n"
     ]
    }
   ],
   "source": [
    "\n",
    "predicciones = modelo.predict(X = x_test,)\n",
    "\n",
    "print(\"Matriz de confusión\")\n",
    "print(\"-------------------\")\n",
    "Matriz_confusion=confusion_matrix(\n",
    "    y_true    = y_test,\n",
    "    y_pred    = predicciones\n",
    ")\n",
    "print(Matriz_confusion)"
   ]
  },
  {
   "cell_type": "markdown",
   "id": "01b8f767",
   "metadata": {},
   "source": [
    "La matriz de confusión nos entrega los casos acertados y no acertados dentro del modelo en la muestra de testeo. Tenemos un total de 7500 registros para realizar la comprobación del modelo, dentro de estos 7003 del grupo 0 y 497 del grupo 1. para el grupo 0 el 82% de los registros en testeo los predice de forma correcta, mientras que solo el 75% son correctamente predechos del grupo 1."
   ]
  },
  {
   "cell_type": "code",
   "execution_count": 59,
   "id": "f94b0c88",
   "metadata": {},
   "outputs": [],
   "source": [
    "def plot_roc_curve(fpr, tpr):  \n",
    "    plt.plot(fpr, tpr, color='orange', label='ROC')\n",
    "    plt.plot([0, 1], [0, 1], color='darkblue', linestyle='--')\n",
    "    plt.xlabel('False Positive Rate')\n",
    "    plt.ylabel('True Positive Rate')\n",
    "    plt.title('Receiver Operating Characteristic (ROC) Curve')\n",
    "    plt.legend()\n",
    "    plt.show()"
   ]
  },
  {
   "cell_type": "code",
   "execution_count": 60,
   "id": "6b81281b",
   "metadata": {},
   "outputs": [
    {
     "name": "stdout",
     "output_type": "stream",
     "text": [
      "AUC: 0.72\n"
     ]
    }
   ],
   "source": [
    "probs = modelo.predict_proba(x_test) \n",
    "probs = probs[:, 1] \n",
    "auc = roc_auc_score(y_test, probs)  \n",
    "print('AUC: %.2f' % auc)  "
   ]
  },
  {
   "cell_type": "code",
   "execution_count": 61,
   "id": "a71f497d",
   "metadata": {},
   "outputs": [],
   "source": [
    "fpr, tpr, thresholds = roc_curve(y_test, probs)  "
   ]
  },
  {
   "cell_type": "code",
   "execution_count": 62,
   "id": "a776b004",
   "metadata": {},
   "outputs": [
    {
     "data": {
      "image/png": "[encoded data removed]",
      "text/plain": [
       "<Figure size 640x480 with 1 Axes>"
      ]
     },
     "metadata": {},
     "output_type": "display_data"
    }
   ],
   "source": [
    "plot_roc_curve(fpr, tpr)  "
   ]
  },
  {
   "cell_type": "markdown",
   "id": "2ca0d484",
   "metadata": {},
   "source": [
    "### Arboles de decisión"
   ]
  },
  {
   "cell_type": "code",
   "execution_count": 63,
   "id": "c91a1434",
   "metadata": {},
   "outputs": [
    {
     "name": "stdout",
     "output_type": "stream",
     "text": [
      "Training score:  0.8171555555555555\n",
      "Testing score:  0.8269333333333333\n"
     ]
    }
   ],
   "source": [
    "# Decision tree with depth = 2\n",
    "dt2 = tree.DecisionTreeClassifier(random_state=1, max_depth=2)\n",
    "dt2.fit(x_train, y_train)\n",
    "dt2_score_train = dt2.score(x_train, y_train)\n",
    "print(\"Training score: \",dt2_score_train)\n",
    "dt2_score_test = dt2.score(x_test, y_test)\n",
    "print(\"Testing score: \",dt2_score_test)"
   ]
  },
  {
   "cell_type": "markdown",
   "id": "76b041e1",
   "metadata": {},
   "source": [
    "Para el modelo de arboles de decisiones tenemos una predicción del 82,7%, con una profundidad máxima del arbol de 2 ramas."
   ]
  },
  {
   "cell_type": "markdown",
   "id": "ab01a043",
   "metadata": {},
   "source": [
    "#### Optimización de hiperparámetros"
   ]
  },
  {
   "cell_type": "markdown",
   "id": "4463a6ea",
   "metadata": {},
   "source": [
    "Utilizaremos la optimización de hiperparámetros GridSearchCV para determinar el número optimo de profundidad máxima del arbol para obtener una mayor precisión del modelo."
   ]
  },
  {
   "cell_type": "code",
   "execution_count": 64,
   "id": "1b93df57",
   "metadata": {},
   "outputs": [
    {
     "data": {
      "text/plain": [
       "GridSearchCV(estimator=DecisionTreeClassifier(max_depth=2, random_state=1),\n",
       "             param_grid={'max_depth': [2, 4, 6, 8, 10]})"
      ]
     },
     "execution_count": 64,
     "metadata": {},
     "output_type": "execute_result"
    }
   ],
   "source": [
    "#clf = tree.DecisionTreeClassifier()\n",
    "param = {'max_depth':[2,4,6,8,10]}\n",
    "\n",
    "est = GridSearchCV(estimator=dt2, param_grid=param)\n",
    "\n",
    "est.fit(x_train,y_train)"
   ]
  },
  {
   "cell_type": "code",
   "execution_count": 65,
   "id": "ec04b2b6",
   "metadata": {},
   "outputs": [
    {
     "data": {
      "text/plain": [
       "DecisionTreeClassifier(max_depth=4, random_state=1)"
      ]
     },
     "execution_count": 65,
     "metadata": {},
     "output_type": "execute_result"
    }
   ],
   "source": [
    "est.best_estimator_"
   ]
  },
  {
   "cell_type": "code",
   "execution_count": 66,
   "id": "9c0e05ae",
   "metadata": {},
   "outputs": [
    {
     "data": {
      "text/plain": [
       "{'max_depth': 4}"
      ]
     },
     "execution_count": 66,
     "metadata": {},
     "output_type": "execute_result"
    }
   ],
   "source": [
    "est.best_params_"
   ]
  },
  {
   "cell_type": "markdown",
   "id": "9519bfef",
   "metadata": {},
   "source": [
    "Realizamos la prueba del modelo con la mejor profundidad máxima del arbol obtenida que es de 4 para analizar los resultados y comparar con la ya realizada de 2."
   ]
  },
  {
   "cell_type": "code",
   "execution_count": 67,
   "id": "70ed8b45",
   "metadata": {},
   "outputs": [
    {
     "name": "stdout",
     "output_type": "stream",
     "text": [
      "Training score:  0.8216444444444444\n",
      "Testing score:  0.8262666666666667\n"
     ]
    }
   ],
   "source": [
    "# Decision tree with depth = 2\n",
    "dt2 = tree.DecisionTreeClassifier(random_state=1, max_depth=4)\n",
    "dt2.fit(x_train, y_train)\n",
    "dt2_score_train = dt2.score(x_train, y_train)\n",
    "print(\"Training score: \",dt2_score_train)\n",
    "dt2_score_test = dt2.score(x_test, y_test)\n",
    "print(\"Testing score: \",dt2_score_test)"
   ]
  },
  {
   "cell_type": "markdown",
   "id": "adaca7ed",
   "metadata": {},
   "source": [
    "Los resultados obtenidos no presentan una mayor variación, ya que con una profundidad máxima de 4 tenemos un precisión del 82,6% para la muestra de testeo, mientras con el de 2 como vimos anteriormente es de 82,7%."
   ]
  },
  {
   "cell_type": "code",
   "execution_count": 68,
   "id": "14bf97dc",
   "metadata": {},
   "outputs": [
    {
     "name": "stdout",
     "output_type": "stream",
     "text": [
      "\n",
      "Accuracy score: \n",
      "0.8262666666666667\n",
      "\n",
      "Area Under Curve: \n",
      "0.7522753435048186\n"
     ]
    }
   ],
   "source": [
    "# Make predictions on the test set\n",
    "preds = dt2.predict(x_test)\n",
    "\n",
    "# Calculate accuracy\n",
    "print(\"\\nAccuracy score: \\n{}\".format(metrics.accuracy_score(y_test, preds)))\n",
    "\n",
    "# Make predictions on the test set using predict_proba\n",
    "probs = dt2.predict_proba(x_test)[:,1]\n",
    "\n",
    "# Calculate the AUC metric\n",
    "print(\"\\nArea Under Curve: \\n{}\".format(metrics.roc_auc_score(y_test, probs)))"
   ]
  },
  {
   "cell_type": "code",
   "execution_count": 69,
   "id": "5dc89016",
   "metadata": {},
   "outputs": [
    {
     "name": "stdout",
     "output_type": "stream",
     "text": [
      "Matriz de confusión\n",
      "-------------------\n",
      "[[5611  257]\n",
      " [1046  586]]\n"
     ]
    }
   ],
   "source": [
    "predicciones = dt2.predict(X = x_test,)\n",
    "\n",
    "print(\"Matriz de confusión\")\n",
    "print(\"-------------------\")\n",
    "Matriz_confusion=confusion_matrix(\n",
    "    y_true    = y_test,\n",
    "    y_pred    = predicciones\n",
    ")\n",
    "print(Matriz_confusion)"
   ]
  },
  {
   "cell_type": "markdown",
   "id": "5fbbf3a5",
   "metadata": {},
   "source": [
    "La matriz de confusión nos entrega los casos acertados y no acertados dentro del modelo en la muestra de testeo. Tenemos un total de 7500 registros para realizar la comprobación del modelo, dentro de estos 6653 del grupo 0 y 825 del grupo 1. para el grupo 0 el 84% de los registros en testeo los predice de forma correcta, mientras que solo el 71% son correctamente predechos del grupo 1."
   ]
  },
  {
   "cell_type": "code",
   "execution_count": 70,
   "id": "f0fc3400",
   "metadata": {},
   "outputs": [],
   "source": [
    "def plot_roc_curve(fpr, tpr):  \n",
    "    plt.plot(fpr, tpr, color='orange', label='ROC')\n",
    "    plt.plot([0, 1], [0, 1], color='darkblue', linestyle='--')\n",
    "    plt.xlabel('False Positive Rate')\n",
    "    plt.ylabel('True Positive Rate')\n",
    "    plt.title('Receiver Operating Characteristic (ROC) Curve')\n",
    "    plt.legend()\n",
    "    plt.show()"
   ]
  },
  {
   "cell_type": "code",
   "execution_count": 71,
   "id": "1a67b9da",
   "metadata": {},
   "outputs": [
    {
     "name": "stdout",
     "output_type": "stream",
     "text": [
      "AUC: 0.75\n"
     ]
    }
   ],
   "source": [
    "probs = dt2.predict_proba(x_test) \n",
    "probs = probs[:, 1] \n",
    "auc = roc_auc_score(y_test, probs)  \n",
    "print('AUC: %.2f' % auc)  "
   ]
  },
  {
   "cell_type": "code",
   "execution_count": 72,
   "id": "37e4e805",
   "metadata": {},
   "outputs": [],
   "source": [
    "fpr, tpr, thresholds = roc_curve(y_test, probs)  "
   ]
  },
  {
   "cell_type": "code",
   "execution_count": 73,
   "id": "1e5a250d",
   "metadata": {},
   "outputs": [
    {
     "data": {
      "image/png": "[encoded data removed]",
      "text/plain": [
       "<Figure size 640x480 with 1 Axes>"
      ]
     },
     "metadata": {},
     "output_type": "display_data"
    }
   ],
   "source": [
    "plot_roc_curve(fpr, tpr)  "
   ]
  },
  {
   "cell_type": "markdown",
   "id": "53a68769",
   "metadata": {},
   "source": [
    "### Random Forest"
   ]
  },
  {
   "cell_type": "code",
   "execution_count": 74,
   "id": "5abd0a20",
   "metadata": {},
   "outputs": [
    {
     "name": "stdout",
     "output_type": "stream",
     "text": [
      "Training score:  0.8361333333333333\n",
      "Testing score:  0.8237333333333333\n"
     ]
    }
   ],
   "source": [
    "RF = RandomForestClassifier(n_estimators=100,\n",
    "                            random_state=0,\n",
    "                            max_depth=8)  \n",
    "RF.fit(x_train, y_train) \n",
    "RF_score_train = RF.score(x_train, y_train)\n",
    "print(\"Training score: \",RF_score_train)\n",
    "RF_score_test = RF.score(x_test, y_test)\n",
    "print(\"Testing score: \",RF_score_test)"
   ]
  },
  {
   "cell_type": "markdown",
   "id": "54eeeb4c",
   "metadata": {},
   "source": [
    "Para el modelo Random Forest tenemos una predicción del 82,4%."
   ]
  },
  {
   "cell_type": "code",
   "execution_count": 75,
   "id": "af622ef7",
   "metadata": {},
   "outputs": [
    {
     "name": "stdout",
     "output_type": "stream",
     "text": [
      "El error (rmse) de test es: 0.41984123983556765\n"
     ]
    }
   ],
   "source": [
    "# Error de test del modelo inicial\n",
    "# ==============================================================================\n",
    "predicciones = RF.predict(X = x_test)\n",
    "\n",
    "rmse = mean_squared_error(\n",
    "        y_true  = y_test,\n",
    "        y_pred  = predicciones,\n",
    "        squared = False\n",
    "       )\n",
    "print(f\"El error (rmse) de test es: {rmse}\")"
   ]
  },
  {
   "cell_type": "code",
   "execution_count": 76,
   "id": "69eb9857",
   "metadata": {},
   "outputs": [
    {
     "data": {
      "text/plain": [
       "GridSearchCV(estimator=RandomForestClassifier(max_depth=8, random_state=0),\n",
       "             param_grid={'max_depth': [2, 4, 6, 8]})"
      ]
     },
     "execution_count": 76,
     "metadata": {},
     "output_type": "execute_result"
    }
   ],
   "source": [
    "#clf = tree.DecisionTreeClassifier()\n",
    "param = {'max_depth':[2,4,6,8]}\n",
    "\n",
    "est = GridSearchCV(estimator=RF, param_grid=param)\n",
    "\n",
    "est.fit(x_train,y_train)"
   ]
  },
  {
   "cell_type": "code",
   "execution_count": 77,
   "id": "816a1ce8",
   "metadata": {},
   "outputs": [
    {
     "data": {
      "text/plain": [
       "RandomForestClassifier(max_depth=8, random_state=0)"
      ]
     },
     "execution_count": 77,
     "metadata": {},
     "output_type": "execute_result"
    }
   ],
   "source": [
    "est.best_estimator_"
   ]
  },
  {
   "cell_type": "code",
   "execution_count": 78,
   "id": "4bf0e7d7",
   "metadata": {},
   "outputs": [
    {
     "data": {
      "text/plain": [
       "{'max_depth': 8}"
      ]
     },
     "execution_count": 78,
     "metadata": {},
     "output_type": "execute_result"
    }
   ],
   "source": [
    "est.best_params_"
   ]
  },
  {
   "cell_type": "code",
   "execution_count": 79,
   "id": "0e9b7758",
   "metadata": {},
   "outputs": [
    {
     "name": "stdout",
     "output_type": "stream",
     "text": [
      "\n",
      "Accuracy score: \n",
      "0.8237333333333333\n",
      "\n",
      "Area Under Curve: \n",
      "0.7856889560527688\n"
     ]
    }
   ],
   "source": [
    "# Make predictions on the test set\n",
    "preds = RF.predict(x_test)\n",
    "\n",
    "# Calculate accuracy\n",
    "print(\"\\nAccuracy score: \\n{}\".format(metrics.accuracy_score(y_test, preds)))\n",
    "\n",
    "# Make predictions on the test set using predict_proba\n",
    "probs = RF.predict_proba(x_test)[:,1]\n",
    "\n",
    "# Calculate the AUC metric\n",
    "print(\"\\nArea Under Curve: \\n{}\".format(metrics.roc_auc_score(y_test, probs)))"
   ]
  },
  {
   "cell_type": "code",
   "execution_count": 80,
   "id": "1ed1adce",
   "metadata": {},
   "outputs": [
    {
     "name": "stdout",
     "output_type": "stream",
     "text": [
      "Matriz de confusión\n",
      "-------------------\n",
      "[[5601  267]\n",
      " [1055  577]]\n"
     ]
    }
   ],
   "source": [
    "predicciones = RF.predict(X = x_test,)\n",
    "\n",
    "print(\"Matriz de confusión\")\n",
    "print(\"-------------------\")\n",
    "Matriz_confusion=confusion_matrix(\n",
    "    y_true    = y_test,\n",
    "    y_pred    = predicciones\n",
    ")\n",
    "print(Matriz_confusion)"
   ]
  },
  {
   "cell_type": "markdown",
   "id": "c5bdb00e",
   "metadata": {},
   "source": [
    "Tenemos un total de 6656 registros para realizar la comprobación del modelo, dentro de estos 6653 del grupo 0 y 844 del grupo 1. para el grupo 0 el 84% de los registros en testeo los predice de forma correcta, mientras que solo el 68% son correctamente predechos del grupo 1."
   ]
  },
  {
   "cell_type": "code",
   "execution_count": null,
   "id": "a3c83fbf",
   "metadata": {},
   "outputs": [],
   "source": []
  }
 ],
 "metadata": {
  "kernelspec": {
   "display_name": "Python 3 (ipykernel)",
   "language": "python",
   "name": "python3"
  },
  "language_info": {
   "codemirror_mode": {
    "name": "ipython",
    "version": 3
   },
   "file_extension": ".py",
   "mimetype": "text/x-python",
   "name": "python",
   "nbconvert_exporter": "python",
   "pygments_lexer": "ipython3",
   "version": "3.9.13"
  }
 },
 "nbformat": 4,
 "nbformat_minor": 5
}
